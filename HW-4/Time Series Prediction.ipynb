{
 "cells": [
  {
   "cell_type": "markdown",
   "metadata": {},
   "source": [
    "# Environment setup"
   ]
  },
  {
   "cell_type": "markdown",
   "metadata": {},
   "source": [
    "Follow the tutorial about how to utilize Google Colab but don't install PyTorch as mentioned in the blog post.\n",
    "\n",
    "Turkish: https://medium.com/deep-learning-turkiye/google-colab-ile-%C3%BCcretsiz-gpu-kullan%C4%B1m%C4%B1-30fdb7dd822e\n",
    "\n",
    "English: https://medium.com/deep-learning-turkey/google-colab-free-gpu-tutorial-e113627b9f5d\n"
   ]
  },
  {
   "cell_type": "markdown",
   "metadata": {},
   "source": [
    "## Don't forget to choose the right runtime from the menu above. (GPU should be selected)\n"
   ]
  },
  {
   "cell_type": "code",
   "execution_count": 0,
   "metadata": {
    "colab": {
     "base_uri": "https://localhost:8080/",
     "height": 329
    },
    "colab_type": "code",
    "id": "kyIe4BqnoBDF",
    "outputId": "36635118-4aec-4a12-dbeb-a7e3cb9ad864"
   },
   "outputs": [
    {
     "name": "stdout",
     "output_type": "stream",
     "text": [
      "Thu Jan  3 12:21:08 2019       \n",
      "+-----------------------------------------------------------------------------+\n",
      "| NVIDIA-SMI 396.44                 Driver Version: 396.44                    |\n",
      "|-------------------------------+----------------------+----------------------+\n",
      "| GPU  Name        Persistence-M| Bus-Id        Disp.A | Volatile Uncorr. ECC |\n",
      "| Fan  Temp  Perf  Pwr:Usage/Cap|         Memory-Usage | GPU-Util  Compute M. |\n",
      "|===============================+======================+======================|\n",
      "|   0  Tesla K80           Off  | 00000000:00:04.0 Off |                    0 |\n",
      "| N/A   31C    P8    27W / 149W |      0MiB / 11441MiB |      0%      Default |\n",
      "+-------------------------------+----------------------+----------------------+\n",
      "                                                                               \n",
      "+-----------------------------------------------------------------------------+\n",
      "| Processes:                                                       GPU Memory |\n",
      "|  GPU       PID   Type   Process name                             Usage      |\n",
      "|=============================================================================|\n",
      "|  No running processes found                                                 |\n",
      "+-----------------------------------------------------------------------------+\n"
     ]
    }
   ],
   "source": [
    "!nvidia-smi"
   ]
  },
  {
   "cell_type": "code",
   "execution_count": 1,
   "metadata": {
    "colab": {
     "base_uri": "https://localhost:8080/",
     "height": 129
    },
    "colab_type": "code",
    "id": "hww20flUppfP",
    "outputId": "f6dd2a10-41b4-421c-d303-1b254ce62967"
   },
   "outputs": [
    {
     "name": "stdout",
     "output_type": "stream",
     "text": [
      "Go to this URL in a browser: https://accounts.google.com/o/oauth2/auth?client_id=947318989803-6bn6qk8qdgf4n4g3pfee6491hc0brc4i.apps.googleusercontent.com&redirect_uri=urn%3Aietf%3Awg%3Aoauth%3A2.0%3Aoob&scope=email%20https%3A%2F%2Fwww.googleapis.com%2Fauth%2Fdocs.test%20https%3A%2F%2Fwww.googleapis.com%2Fauth%2Fdrive%20https%3A%2F%2Fwww.googleapis.com%2Fauth%2Fdrive.photos.readonly%20https%3A%2F%2Fwww.googleapis.com%2Fauth%2Fpeopleapi.readonly&response_type=code\n",
      "\n",
      "Enter your authorization code:\n",
      "··········\n",
      "Mounted at /content/drive/\n"
     ]
    }
   ],
   "source": [
    "from google.colab import drive\n",
    "drive.mount('/content/drive/')"
   ]
  },
  {
   "cell_type": "code",
   "execution_count": 3,
   "metadata": {
    "colab": {
     "base_uri": "https://localhost:8080/",
     "height": 1066
    },
    "colab_type": "code",
    "id": "3GDdoEEPqVN8",
    "outputId": "6c8e495b-5acb-4cb1-c027-39b5b4bfb90a"
   },
   "outputs": [
    {
     "name": "stdout",
     "output_type": "stream",
     "text": [
      "Collecting torch==0.4.1\n",
      "\u001b[?25l  Downloading https://files.pythonhosted.org/packages/49/0e/e382bcf1a6ae8225f50b99cc26effa2d4cc6d66975ccf3fa9590efcbedce/torch-0.4.1-cp36-cp36m-manylinux1_x86_64.whl (519.5MB)\n",
      "\u001b[K    100% |████████████████████████████████| 519.5MB 29kB/s \n",
      "tcmalloc: large alloc 1073750016 bytes == 0x59988000 @  0x7f0fab2852a4 0x591a07 0x5b5d56 0x502e9a 0x506859 0x502209 0x502f3d 0x506859 0x504c28 0x502540 0x502f3d 0x506859 0x504c28 0x502540 0x502f3d 0x506859 0x504c28 0x502540 0x502f3d 0x507641 0x502209 0x502f3d 0x506859 0x504c28 0x502540 0x502f3d 0x507641 0x504c28 0x502540 0x502f3d 0x507641\n",
      "\u001b[?25hInstalling collected packages: torch\n",
      "Successfully installed torch-0.4.1\n",
      "Collecting torchvision==0.2.1\n",
      "\u001b[?25l  Downloading https://files.pythonhosted.org/packages/ca/0d/f00b2885711e08bd71242ebe7b96561e6f6d01fdb4b9dcf4d37e2e13c5e1/torchvision-0.2.1-py2.py3-none-any.whl (54kB)\n",
      "\u001b[K    100% |████████████████████████████████| 61kB 4.8MB/s \n",
      "\u001b[?25hCollecting pillow>=4.1.1 (from torchvision==0.2.1)\n",
      "\u001b[?25l  Downloading https://files.pythonhosted.org/packages/92/e3/217dfd0834a51418c602c96b110059c477260c7fee898542b100913947cf/Pillow-5.4.0-cp36-cp36m-manylinux1_x86_64.whl (2.0MB)\n",
      "\u001b[K    100% |████████████████████████████████| 2.0MB 10.2MB/s \n",
      "\u001b[?25hRequirement already satisfied: numpy in /usr/local/lib/python3.6/dist-packages (from torchvision==0.2.1) (1.14.6)\n",
      "Requirement already satisfied: six in /usr/local/lib/python3.6/dist-packages (from torchvision==0.2.1) (1.11.0)\n",
      "Requirement already satisfied: torch in /usr/local/lib/python3.6/dist-packages (from torchvision==0.2.1) (0.4.1)\n",
      "Installing collected packages: pillow, torchvision\n",
      "  Found existing installation: Pillow 4.0.0\n",
      "    Uninstalling Pillow-4.0.0:\n",
      "      Successfully uninstalled Pillow-4.0.0\n",
      "Successfully installed pillow-5.4.0 torchvision-0.2.1\n",
      "Requirement already satisfied: scipy in /usr/local/lib/python3.6/dist-packages (1.1.0)\n",
      "Requirement already satisfied: numpy>=1.8.2 in /usr/local/lib/python3.6/dist-packages (from scipy) (1.14.6)\n",
      "Requirement already satisfied: numpy in /usr/local/lib/python3.6/dist-packages (1.14.6)\n",
      "Requirement already satisfied: matplotlib in /usr/local/lib/python3.6/dist-packages (2.1.2)\n",
      "Requirement already satisfied: pyparsing!=2.0.4,!=2.1.2,!=2.1.6,>=2.0.1 in /usr/local/lib/python3.6/dist-packages (from matplotlib) (2.3.0)\n",
      "Requirement already satisfied: numpy>=1.7.1 in /usr/local/lib/python3.6/dist-packages (from matplotlib) (1.14.6)\n",
      "Requirement already satisfied: python-dateutil>=2.1 in /usr/local/lib/python3.6/dist-packages (from matplotlib) (2.5.3)\n",
      "Requirement already satisfied: cycler>=0.10 in /usr/local/lib/python3.6/dist-packages (from matplotlib) (0.10.0)\n",
      "Requirement already satisfied: six>=1.10 in /usr/local/lib/python3.6/dist-packages (from matplotlib) (1.11.0)\n",
      "Requirement already satisfied: pytz in /usr/local/lib/python3.6/dist-packages (from matplotlib) (2018.7)\n",
      "Collecting quandl\n",
      "  Downloading https://files.pythonhosted.org/packages/03/ad/d6c0e4a919a9b17300b32cd987cf11a3b13660852930b32d9f330120e48b/Quandl-3.4.5-py2.py3-none-any.whl\n",
      "Requirement already satisfied: requests>=2.7.0 in /usr/local/lib/python3.6/dist-packages (from quandl) (2.18.4)\n",
      "Requirement already satisfied: python-dateutil in /usr/local/lib/python3.6/dist-packages (from quandl) (2.5.3)\n",
      "Requirement already satisfied: numpy>=1.8 in /usr/local/lib/python3.6/dist-packages (from quandl) (1.14.6)\n",
      "Collecting inflection>=0.3.1 (from quandl)\n",
      "  Downloading https://files.pythonhosted.org/packages/d5/35/a6eb45b4e2356fe688b21570864d4aa0d0a880ce387defe9c589112077f8/inflection-0.3.1.tar.gz\n",
      "Requirement already satisfied: six in /usr/local/lib/python3.6/dist-packages (from quandl) (1.11.0)\n",
      "Requirement already satisfied: pandas>=0.14 in /usr/local/lib/python3.6/dist-packages (from quandl) (0.22.0)\n",
      "Requirement already satisfied: more-itertools in /usr/local/lib/python3.6/dist-packages (from quandl) (4.3.0)\n",
      "Requirement already satisfied: certifi>=2017.4.17 in /usr/local/lib/python3.6/dist-packages (from requests>=2.7.0->quandl) (2018.11.29)\n",
      "Requirement already satisfied: urllib3<1.23,>=1.21.1 in /usr/local/lib/python3.6/dist-packages (from requests>=2.7.0->quandl) (1.22)\n",
      "Requirement already satisfied: chardet<3.1.0,>=3.0.2 in /usr/local/lib/python3.6/dist-packages (from requests>=2.7.0->quandl) (3.0.4)\n",
      "Requirement already satisfied: idna<2.7,>=2.5 in /usr/local/lib/python3.6/dist-packages (from requests>=2.7.0->quandl) (2.6)\n",
      "Requirement already satisfied: pytz>=2011k in /usr/local/lib/python3.6/dist-packages (from pandas>=0.14->quandl) (2018.7)\n",
      "Building wheels for collected packages: inflection\n",
      "  Running setup.py bdist_wheel for inflection ... \u001b[?25l-\b \bdone\n",
      "\u001b[?25h  Stored in directory: /root/.cache/pip/wheels/9f/5a/d3/6fc3bf6516d2a3eb7e18f9f28b472110b59325f3f258fe9211\n",
      "Successfully built inflection\n",
      "Installing collected packages: inflection, quandl\n",
      "Successfully installed inflection-0.3.1 quandl-3.4.5\n",
      "Requirement already satisfied: pandas in /usr/local/lib/python3.6/dist-packages (0.22.0)\n",
      "Requirement already satisfied: numpy>=1.9.0 in /usr/local/lib/python3.6/dist-packages (from pandas) (1.14.6)\n",
      "Requirement already satisfied: pytz>=2011k in /usr/local/lib/python3.6/dist-packages (from pandas) (2018.7)\n",
      "Requirement already satisfied: python-dateutil>=2 in /usr/local/lib/python3.6/dist-packages (from pandas) (2.5.3)\n",
      "Requirement already satisfied: six>=1.5 in /usr/local/lib/python3.6/dist-packages (from python-dateutil>=2->pandas) (1.11.0)\n"
     ]
    }
   ],
   "source": [
    "!pip3 install torch==0.4.1\n",
    "!pip3 install torchvision==0.2.1\n",
    "!pip3 install scipy\n",
    "!pip3 install numpy\n",
    "!pip3 install matplotlib\n",
    "!pip3 install quandl\n",
    "!pip3 install pandas"
   ]
  },
  {
   "cell_type": "markdown",
   "metadata": {},
   "source": [
    "Register to Quandl\n",
    "\n",
    "For this homework, you will use data from Frankfurt Stock Exchange, Quandl (www.quandl.com) provides the required data . https://www.quandl.com/data/FSE-Frankfurt-Stock-Exchange\n",
    "\n",
    "In the following link, the details about how to download the is given. Before sending your homework, do not forget to clear your API key from the notebook, for the sake of privacy. https://www.quandl.com/data/FSE-Frankfurt-Stock-Exchange/usage/quickstart/python\n"
   ]
  },
  {
   "cell_type": "markdown",
   "metadata": {},
   "source": [
    "Instructions\n",
    "\n",
    "    In this homework, you will be implementing your own RNN/LSTM/GRU models and try to predict stock price of BMW using previous values of BMW, Daimler stocks and stock index.\n",
    "    Write your dataloader to feed your data. You need to normalize your data, there are various approaches but for simplicity, you can simply scale it between [0,1] If you want to do something extra for more points, you can try the followings:\n",
    "        remove seasonality\n",
    "        instead of predicting the price, predict the return (i.e. how much will it increase in the next step)\n",
    "        merge the current data with something extra (for example, add stocks for General Motors)\n",
    "    You can use 30 as window length (sequence length) for your models.\n",
    "    If you think that something is wrong, you can try to fit your model to a sine wave.\n",
    "    For each model(RNN/LSTM/GRU) report the predictions for both the test and training data, and the loss curves.\n",
    "\n"
   ]
  },
  {
   "cell_type": "code",
   "execution_count": 0,
   "metadata": {
    "colab": {},
    "colab_type": "code",
    "id": "io6oLM0RqZ2J"
   },
   "outputs": [],
   "source": [
    "import quandl\n",
    "import torch\n",
    "import torch.nn as nn\n",
    "import torch.optim as optim\n",
    "import numpy as np\n",
    "import matplotlib\n",
    "matplotlib.use('Agg')\n",
    "import matplotlib.pyplot as plt\n",
    "%matplotlib inline  \n",
    "from sklearn.preprocessing import normalize"
   ]
  },
  {
   "cell_type": "code",
   "execution_count": 0,
   "metadata": {
    "colab": {},
    "colab_type": "code",
    "id": "yvZpf4kZVdaW"
   },
   "outputs": [],
   "source": [
    "class Sequence(nn.Module):\n",
    "    def __init__(self):\n",
    "        super(Sequence, self).__init__()\n",
    "        self.lstm1 = nn.LSTMCell(1, 51)\n",
    "        self.lstm2 = nn.LSTMCell(51, 51)\n",
    "        self.linear = nn.Linear(51, 1)\n",
    "\n",
    "    def forward(self, input):\n",
    "        outputs = []\n",
    "        h_t = torch.zeros(input.size(0), 51, dtype=torch.double).cuda()\n",
    "        c_t = torch.zeros(input.size(0), 51, dtype=torch.double).cuda()\n",
    "        h_t2 = torch.zeros(input.size(0), 51, dtype=torch.double).cuda()\n",
    "        c_t2 = torch.zeros(input.size(0), 51, dtype=torch.double).cuda()\n",
    "\n",
    "        for i, input_t in enumerate(input.chunk(input.size(1), dim=1)):\n",
    "            h_t, c_t = self.lstm1(input_t, (h_t, c_t))\n",
    "            h_t2, c_t2 = self.lstm2(h_t, (h_t2, c_t2))\n",
    "            output = self.linear(h_t2)\n",
    "            outputs += [output]\n",
    "\n",
    "        outputs = torch.stack(outputs, 1).squeeze(2)\n",
    "        return outputs"
   ]
  },
  {
   "cell_type": "code",
   "execution_count": 0,
   "metadata": {
    "colab": {},
    "colab_type": "code",
    "id": "NNF41sUOqamx"
   },
   "outputs": [],
   "source": [
    "YOUR_API_KEY = ''\n",
    "quandl.ApiConfig.api_key = YOUR_API_KEY\n",
    "data = quandl.get(['FSE/BMW_X', 'FSE/DAI_X', 'FSE/DB1_X'], start_date='2009-01-01', end_date='2018-12-19', column_index= '4')\n",
    "data = data.dropna().ffill()\n",
    "data_train = data[:-500] \n",
    "data_test = data[-500:]"
   ]
  },
  {
   "cell_type": "code",
   "execution_count": 0,
   "metadata": {
    "colab": {},
    "colab_type": "code",
    "id": "I0-kgBJqw2D2"
   },
   "outputs": [],
   "source": [
    "data_train = data_train.values\n",
    "data_test = data_test.values"
   ]
  },
  {
   "cell_type": "code",
   "execution_count": 0,
   "metadata": {
    "colab": {},
    "colab_type": "code",
    "id": "DDW7hol6ypUP"
   },
   "outputs": [],
   "source": [
    "np.random.seed(0)\n",
    "torch.manual_seed(0)\n",
    "\n",
    "input = torch.from_numpy(data_train[:-1])\n",
    "target = torch.from_numpy(data_train[1:])\n",
    "test_input = torch.from_numpy(data_test[:-1])\n",
    "test_target = torch.from_numpy(data_test[1:])\n",
    "\n",
    "input = normalize(input, axis=1).T\n",
    "target = normalize(target, axis=1).T\n",
    "test_input = normalize(test_input, axis=1).T\n",
    "test_target = normalize(test_target, axis=1).T\n",
    "\n",
    "input = torch.from_numpy(input).cuda()\n",
    "target = torch.from_numpy(target).cuda()\n",
    "test_input = torch.from_numpy(test_input).cuda()\n",
    "test_target = torch.from_numpy(test_target).cuda()"
   ]
  },
  {
   "cell_type": "code",
   "execution_count": 153,
   "metadata": {
    "colab": {
     "base_uri": "https://localhost:8080/",
     "height": 2037
    },
    "colab_type": "code",
    "id": "FhPKBPslyJ6W",
    "outputId": "22e19ed0-a5b5-4055-f3e2-60a780e8f849"
   },
   "outputs": [
    {
     "name": "stdout",
     "output_type": "stream",
     "text": [
      "STEP:  0\n",
      "loss: 0.4566156121708365\n",
      "loss: 0.3860102781671906\n",
      "loss: 0.01627999670673175\n",
      "loss: 0.01132717884665716\n",
      "loss: 0.011319540985776267\n",
      "loss: 0.011314334678191975\n",
      "loss: 0.011298771721647593\n",
      "loss: 0.011263915504281507\n",
      "loss: 0.011180868122807806\n",
      "loss: 0.010970752771740805\n",
      "loss: 0.010166278976416157\n",
      "loss: 0.008856552443276426\n",
      "loss: 0.0060755331335245084\n",
      "loss: 0.005364256098418997\n",
      "loss: 0.004313394595898093\n",
      "loss: 0.003622001592832038\n",
      "loss: 0.004749946949281186\n",
      "loss: 0.000603639198963348\n",
      "loss: 0.0002836214739064976\n",
      "loss: 0.0001560525229339295\n",
      "test loss: 0.00013769416427451692\n",
      "STEP:  1\n",
      "loss: 0.00014897837884728424\n",
      "loss: 0.00014888881215516486\n",
      "loss: 0.00014887296276161786\n",
      "loss: 0.00014884500871913185\n",
      "loss: 0.0001487795583999963\n",
      "loss: 0.00014862827441704805\n",
      "loss: 0.00014827930123519675\n",
      "loss: 0.00014748570900575842\n",
      "loss: 0.00014574435802842603\n",
      "loss: 0.0001422490929895104\n",
      "loss: 0.00013642283100587092\n",
      "loss: 0.00012867629746066505\n",
      "loss: 0.00011711908273824991\n",
      "loss: 0.00011059389762138331\n",
      "loss: 0.00011056143469512747\n",
      "loss: 0.00011047401591303337\n",
      "loss: 0.00011033907341706702\n",
      "loss: 0.00011012509333975348\n",
      "loss: 0.0001096953469146754\n",
      "loss: 0.00010897041772698836\n",
      "test loss: 5.93951097501916e-05\n",
      "STEP:  2\n",
      "loss: 0.00010782302827233093\n",
      "loss: 0.00010586184504309997\n",
      "loss: 0.00010206609378560269\n",
      "loss: 9.472693604323004e-05\n",
      "loss: 9.327387766120509e-05\n",
      "loss: 8.754059767505483e-05\n",
      "loss: 8.675090351689958e-05\n",
      "loss: 8.289121181723956e-05\n",
      "loss: 8.081950006788918e-05\n",
      "loss: 7.693278207353075e-05\n",
      "loss: 7.530464184357576e-05\n",
      "loss: 7.330902569020739e-05\n",
      "loss: 7.322036856637327e-05\n",
      "loss: 7.158976745045534e-05\n",
      "loss: 7.086203910737766e-05\n",
      "loss: 6.992894587110782e-05\n",
      "loss: 6.985883984158097e-05\n",
      "loss: 6.8168620644918e-05\n",
      "loss: 6.776205352735864e-05\n",
      "loss: 6.674987541988358e-05\n",
      "test loss: 6.846165082511573e-05\n",
      "STEP:  3\n",
      "loss: 6.620194536243403e-05\n",
      "loss: 6.494681325281948e-05\n",
      "loss: 6.405732160253467e-05\n",
      "loss: 6.252803577717736e-05\n",
      "loss: 6.379097004141461e-05\n",
      "loss: 6.205872581723185e-05\n",
      "loss: 6.1940079457797e-05\n",
      "loss: 6.156819181584243e-05\n",
      "loss: 6.131749165666785e-05\n",
      "loss: 6.12547562314655e-05\n",
      "loss: 6.112425541656728e-05\n",
      "loss: 6.054129664247842e-05\n",
      "loss: 6.0013694210896196e-05\n",
      "loss: 5.90565782560942e-05\n",
      "loss: 5.856923172037201e-05\n",
      "loss: 5.7990935971613255e-05\n",
      "loss: 5.709140810050873e-05\n",
      "loss: 5.479492986258238e-05\n",
      "loss: 0.00033970593040120566\n",
      "loss: 5.2764081824049806e-05\n",
      "test loss: 5.483870394467524e-05\n",
      "STEP:  4\n",
      "loss: 5.136072227696271e-05\n",
      "loss: 7.696073297640082e-05\n",
      "loss: 4.904966764414966e-05\n",
      "loss: 4.878066428966096e-05\n",
      "loss: 4.725388225549205e-05\n",
      "loss: 4.6728520040398755e-05\n",
      "loss: 4.663606548212942e-05\n",
      "loss: 4.652174779322377e-05\n",
      "loss: 4.647360071840384e-05\n",
      "loss: 4.632960455569293e-05\n",
      "loss: 4.60138784873679e-05\n",
      "loss: 4.582227700667674e-05\n",
      "loss: 4.5872717666717656e-05\n",
      "loss: 4.573765420042012e-05\n",
      "loss: 4.5728559230265536e-05\n",
      "loss: 4.568408796778079e-05\n",
      "loss: 4.5605182653181874e-05\n",
      "loss: 4.541753744012243e-05\n",
      "loss: 4.4958927562414584e-05\n",
      "loss: 4.404377252215007e-05\n",
      "test loss: 2.69567455303081e-05\n"
     ]
    }
   ],
   "source": [
    "    # This version is highly inspired by https://github.com/pytorch/examples/blob/master/time_sequence_prediction\n",
    "    seq = Sequence()\n",
    "    seq.double().cuda()\n",
    "    criterion = nn.MSELoss()\n",
    "    # use LBFGS as optimizer since we can load the whole data to train\n",
    "    optimizer = optim.LBFGS(seq.parameters(), lr=0.8)\n",
    "    #begin to train\n",
    "    out_l = []\n",
    "    loss_s = []\n",
    "    for i in range(5):\n",
    "        print('STEP: ', i)\n",
    "        def closure():\n",
    "            optimizer.zero_grad()\n",
    "            out = seq(input)            \n",
    "            loss = criterion(out, target)\n",
    "            print('loss:', loss.item())\n",
    "            loss.backward()\n",
    "            out_l.append(out)\n",
    "            return loss\n",
    "        optimizer.step(closure)\n",
    "        # begin to predict, no need to track gradient here\n",
    "        with torch.no_grad():\n",
    "            pred = seq(test_input)\n",
    "            loss = criterion(pred, test_target)\n",
    "            loss_s.append(loss)\n",
    "            print('test loss:', loss.item())\n",
    "            y = pred.cpu().detach().numpy()\n",
    "            \n",
    "            \n",
    "        \n",
    "    plt.figure(figsize=(30,10))\n",
    "    plt.title('Predict future values for time sequences\\n(Dashlines are predicted values)', fontsize=30)\n",
    "    plt.xlabel('x', fontsize=20)\n",
    "    plt.ylabel('y', fontsize=20)\n",
    "    plt.xticks(fontsize=20)\n",
    "    plt.yticks(fontsize=20)\n",
    "\n",
    "    \n",
    "    plt.plot(y.T,linewidth = 5.7)\n",
    "    plt.plot(test_target.cpu().numpy().T,linewidth = 0.7)\n",
    "    plt.imshow\n",
    "    plt.savefig('final_loss.pdf')\n",
    "    plt.close()\n",
    "        "
   ]
  },
  {
   "cell_type": "markdown",
   "metadata": {},
   "source": [
    "## Predicted Values vs Test Values (LSTM)"
   ]
  },
  {
   "cell_type": "code",
   "execution_count": 154,
   "metadata": {
    "colab": {
     "base_uri": "https://localhost:8080/",
     "height": 283
    },
    "colab_type": "code",
    "id": "Dn9nKLspSjlY",
    "outputId": "be925c3f-9e99-4108-a61e-69e2dcb35c17"
   },
   "outputs": [
    {
     "data": {
      "text/plain": [
       "<function matplotlib.pyplot.imshow>"
      ]
     },
     "execution_count": 154,
     "metadata": {
      "tags": []
     },
     "output_type": "execute_result"
    },
    {
     "data": {
      "image/png": "[encoded data removed]",
      "text/plain": [
       "<matplotlib.figure.Figure at 0x7f5761405320>"
      ]
     },
     "metadata": {
      "tags": []
     },
     "output_type": "display_data"
    }
   ],
   "source": [
    "plt.plot(y.T,linewidth = 5.7)\n",
    "plt.plot(test_target.cpu().numpy().T,linewidth = 0.7)\n",
    "plt.imshow"
   ]
  },
  {
   "cell_type": "markdown",
   "metadata": {},
   "source": [
    "## Loss values (LSTM)"
   ]
  },
  {
   "cell_type": "code",
   "execution_count": 161,
   "metadata": {
    "colab": {
     "base_uri": "https://localhost:8080/",
     "height": 283
    },
    "colab_type": "code",
    "id": "Ncnhq248Sagj",
    "outputId": "742102eb-123d-4aea-bf2b-6a22ce259869"
   },
   "outputs": [
    {
     "data": {
      "text/plain": [
       "<function matplotlib.pyplot.imshow>"
      ]
     },
     "execution_count": 161,
     "metadata": {
      "tags": []
     },
     "output_type": "execute_result"
    },
    {
     "data": {
      "image/png": "[encoded data removed]",
      "text/plain": [
       "<matplotlib.figure.Figure at 0x7f57039b1128>"
      ]
     },
     "metadata": {
      "tags": []
     },
     "output_type": "display_data"
    }
   ],
   "source": [
    "plt.close()\n",
    "plt.plot(loss_s)\n",
    "plt.imshow\n",
    "    "
   ]
  }
 ],
 "metadata": {
  "accelerator": "GPU",
  "colab": {
   "collapsed_sections": [],
   "name": "LSTM",
   "provenance": [],
   "version": "0.3.2"
  },
  "kernelspec": {
   "display_name": "Python 3",
   "language": "python",
   "name": "python3"
  },
  "language_info": {
   "codemirror_mode": {
    "name": "ipython",
    "version": 3
   },
   "file_extension": ".py",
   "mimetype": "text/x-python",
   "name": "python",
   "nbconvert_exporter": "python",
   "pygments_lexer": "ipython3",
   "version": "3.7.1"
  }
 },
 "nbformat": 4,
 "nbformat_minor": 1
}
