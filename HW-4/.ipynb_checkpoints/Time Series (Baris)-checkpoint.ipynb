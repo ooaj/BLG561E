{
 "cells": [
  {
   "cell_type": "markdown",
   "metadata": {},
   "source": [
    "# Environment setup\n"
   ]
  },
  {
   "cell_type": "markdown",
   "metadata": {},
   "source": [
    "Follow the tutorial about how to utilize Google Colab but don't install PyTorch as mentioned in the blog post.\n",
    "\n",
    "Turkish: https://medium.com/deep-learning-turkiye/google-colab-ile-%C3%BCcretsiz-gpu-kullan%C4%B1m%C4%B1-30fdb7dd822e\n",
    "\n",
    "English: https://medium.com/deep-learning-turkey/google-colab-free-gpu-tutorial-e113627b9f5d"
   ]
  },
  {
   "cell_type": "markdown",
   "metadata": {},
   "source": [
    "## Don't forget to choose the right runtime from the menu above. (GPU should be selected)\n"
   ]
  },
  {
   "cell_type": "code",
   "execution_count": 1,
   "metadata": {},
   "outputs": [
    {
     "name": "stderr",
     "output_type": "stream",
     "text": [
      "'nvidia-smi' is not recognized as an internal or external command,\n",
      "operable program or batch file.\n"
     ]
    }
   ],
   "source": [
    "!nvidia-smi"
   ]
  },
  {
   "cell_type": "code",
   "execution_count": 3,
   "metadata": {},
   "outputs": [
    {
     "ename": "SyntaxError",
     "evalue": "invalid syntax (<ipython-input-3-02eb9b5abec1>, line 2)",
     "output_type": "error",
     "traceback": [
      "\u001b[1;36m  File \u001b[1;32m\"<ipython-input-3-02eb9b5abec1>\"\u001b[1;36m, line \u001b[1;32m2\u001b[0m\n\u001b[1;33m    pip3 install torch==0.4.1\u001b[0m\n\u001b[1;37m               ^\u001b[0m\n\u001b[1;31mSyntaxError\u001b[0m\u001b[1;31m:\u001b[0m invalid syntax\n"
     ]
    }
   ],
   "source": [
    "# Install the required libraries\n",
    "!pip3 install torch==0.4.1\n",
    "!pip3 install torchvision==0.2.1\n",
    "!pip3 install scipy\n",
    "!pip3 install numpy\n",
    "!pip3 install matplotlib\n",
    "!pip3 install quandl\n",
    "!pip3 install pandas"
   ]
  },
  {
   "cell_type": "markdown",
   "metadata": {},
   "source": [
    "### Register to Quandl \n",
    "For this homework, you will use data from Frankfurt Stock Exchange, Quandl (www.quandl.com) provides the required data .\n",
    "https://www.quandl.com/data/FSE-Frankfurt-Stock-Exchange\n",
    "\n",
    "In the following link, the details about how to download the is given. **Before sending your homework, do not forget to clear your API key from the notebook, for the sake of privacy.**\n",
    "https://www.quandl.com/data/FSE-Frankfurt-Stock-Exchange/usage/quickstart/python "
   ]
  },
  {
   "cell_type": "code",
   "execution_count": 54,
   "metadata": {},
   "outputs": [],
   "source": [
    "import quandl\n",
    "import pandas as pd\n",
    "from sklearn.preprocessing import normalize"
   ]
  },
  {
   "cell_type": "code",
   "execution_count": 15,
   "metadata": {},
   "outputs": [],
   "source": [
    "YOUR_API_KEY = 'HpGe5VpiUMceCS9enPds'\n",
    "quandl.ApiConfig.api_key = YOUR_API_KEY\n",
    "data = quandl.get(['FSE/BMW_X', 'FSE/DAI_X', 'FSE/DB1_X'], start_date='2009-01-01', end_date='2018-12-19', column_index= '4')\n",
    "data = data.dropna().ffill()\n",
    "data_train = data[:-500] \n",
    "data_test = data[-500:]"
   ]
  },
  {
   "cell_type": "code",
   "execution_count": 32,
   "metadata": {},
   "outputs": [],
   "source": [
    "def normalize_timestep(timestep, reference_list):\n",
    "    reference_price = timestep[0][0]\n",
    "    reference_list.append(reference_price)\n",
    "\n",
    "    temp_volume = np.copy(timestep[:, 3])\n",
    "    reference_volume = np.copy(timestep[0, 3])\n",
    "\n",
    "    timestep = (timestep / reference_price) - 1\n",
    "    timestep[:, 3] = (temp_volume / reference_volume) - 1\n",
    "    return timestep"
   ]
  },
  {
   "cell_type": "code",
   "execution_count": 52,
   "metadata": {},
   "outputs": [],
   "source": [
    "result = np.array(data_train[\"FSE/BMW_X - Close\"], dtype=pd.Series)"
   ]
  },
  {
   "cell_type": "code",
   "execution_count": 58,
   "metadata": {},
   "outputs": [],
   "source": [
    "bar = [item for item in data_train[\"FSE/BMW_X - Close\"]]"
   ]
  },
  {
   "cell_type": "code",
   "execution_count": 65,
   "metadata": {},
   "outputs": [],
   "source": [
    "norm = [float(i)/max(bar) for i in bar]"
   ]
  },
  {
   "cell_type": "code",
   "execution_count": 53,
   "metadata": {},
   "outputs": [
    {
     "ename": "TypeError",
     "evalue": "'float' object is not subscriptable",
     "output_type": "error",
     "traceback": [
      "\u001b[1;31m---------------------------------------------------------------------------\u001b[0m",
      "\u001b[1;31mTypeError\u001b[0m                                 Traceback (most recent call last)",
      "\u001b[1;32m<ipython-input-53-8a13dbfdaf9b>\u001b[0m in \u001b[0;36m<module>\u001b[1;34m\u001b[0m\n\u001b[0;32m      1\u001b[0m \u001b[0mreference_points\u001b[0m \u001b[1;33m=\u001b[0m \u001b[1;33m[\u001b[0m\u001b[1;33m]\u001b[0m\u001b[1;33m\u001b[0m\u001b[1;33m\u001b[0m\u001b[0m\n\u001b[0;32m      2\u001b[0m \u001b[1;32mfor\u001b[0m \u001b[0mi\u001b[0m \u001b[1;32min\u001b[0m \u001b[0mrange\u001b[0m\u001b[1;33m(\u001b[0m\u001b[1;36m0\u001b[0m\u001b[1;33m,\u001b[0m \u001b[0mlen\u001b[0m\u001b[1;33m(\u001b[0m\u001b[0mdata_test\u001b[0m\u001b[1;33m)\u001b[0m\u001b[1;33m)\u001b[0m\u001b[1;33m:\u001b[0m\u001b[1;33m\u001b[0m\u001b[1;33m\u001b[0m\u001b[0m\n\u001b[1;32m----> 3\u001b[1;33m     \u001b[0mresult\u001b[0m\u001b[1;33m[\u001b[0m\u001b[0mi\u001b[0m\u001b[1;33m]\u001b[0m \u001b[1;33m=\u001b[0m \u001b[0mnormalize_timestep\u001b[0m\u001b[1;33m(\u001b[0m\u001b[0mresult\u001b[0m\u001b[1;33m[\u001b[0m\u001b[0mi\u001b[0m\u001b[1;33m]\u001b[0m\u001b[1;33m,\u001b[0m \u001b[0mreference_points\u001b[0m\u001b[1;33m)\u001b[0m\u001b[1;33m\u001b[0m\u001b[1;33m\u001b[0m\u001b[0m\n\u001b[0m",
      "\u001b[1;32m<ipython-input-32-494a13172bac>\u001b[0m in \u001b[0;36mnormalize_timestep\u001b[1;34m(timestep, reference_list)\u001b[0m\n\u001b[0;32m      1\u001b[0m \u001b[1;32mdef\u001b[0m \u001b[0mnormalize_timestep\u001b[0m\u001b[1;33m(\u001b[0m\u001b[0mtimestep\u001b[0m\u001b[1;33m,\u001b[0m \u001b[0mreference_list\u001b[0m\u001b[1;33m)\u001b[0m\u001b[1;33m:\u001b[0m\u001b[1;33m\u001b[0m\u001b[1;33m\u001b[0m\u001b[0m\n\u001b[1;32m----> 2\u001b[1;33m     \u001b[0mreference_price\u001b[0m \u001b[1;33m=\u001b[0m \u001b[0mtimestep\u001b[0m\u001b[1;33m[\u001b[0m\u001b[1;36m0\u001b[0m\u001b[1;33m]\u001b[0m\u001b[1;33m[\u001b[0m\u001b[1;36m0\u001b[0m\u001b[1;33m]\u001b[0m\u001b[1;33m\u001b[0m\u001b[1;33m\u001b[0m\u001b[0m\n\u001b[0m\u001b[0;32m      3\u001b[0m     \u001b[0mreference_list\u001b[0m\u001b[1;33m.\u001b[0m\u001b[0mappend\u001b[0m\u001b[1;33m(\u001b[0m\u001b[0mreference_price\u001b[0m\u001b[1;33m)\u001b[0m\u001b[1;33m\u001b[0m\u001b[1;33m\u001b[0m\u001b[0m\n\u001b[0;32m      4\u001b[0m \u001b[1;33m\u001b[0m\u001b[0m\n\u001b[0;32m      5\u001b[0m     \u001b[0mtemp_volume\u001b[0m \u001b[1;33m=\u001b[0m \u001b[0mnp\u001b[0m\u001b[1;33m.\u001b[0m\u001b[0mcopy\u001b[0m\u001b[1;33m(\u001b[0m\u001b[0mtimestep\u001b[0m\u001b[1;33m[\u001b[0m\u001b[1;33m:\u001b[0m\u001b[1;33m,\u001b[0m \u001b[1;36m3\u001b[0m\u001b[1;33m]\u001b[0m\u001b[1;33m)\u001b[0m\u001b[1;33m\u001b[0m\u001b[1;33m\u001b[0m\u001b[0m\n",
      "\u001b[1;31mTypeError\u001b[0m: 'float' object is not subscriptable"
     ]
    }
   ],
   "source": [
    "reference_points = []\n",
    "for i in range(0, len(data_test)):\n",
    "    result[i] = normalize_timestep(result[i], reference_points)"
   ]
  },
  {
   "cell_type": "markdown",
   "metadata": {},
   "source": [
    "## Instructions\n",
    "* In this homework, you will be implementing your own RNN/LSTM/GRU models and try to predict stock price of **BMW** using previous values of BMW, Daimler stocks and stock index.\n",
    "* Write your dataloader to feed your data. You need to normalize your data, there are various approaches but for simplicity, you can simply scale it between [0,1] If you want to do something extra for more points, you can try the followings:\n",
    "    * remove seasonality\n",
    "    * instead of predicting the price, predict the return (i.e. how much will it increase in the next step)\n",
    "    * merge the current data with something extra (for example, add stocks for General Motors)\n",
    "* You can use 30 as window length (sequence length) for your models.\n",
    "* If you think that something is wrong, you can try to fit your model to a sine wave.\n",
    "* For each model(RNN/LSTM/GRU) report the predictions for both the test and training data, and the loss curves."
   ]
  },
  {
   "cell_type": "code",
   "execution_count": 6,
   "metadata": {},
   "outputs": [
    {
     "data": {
      "text/plain": [
       "'\\nExample of using fixed coefficients (consistency across tests of different models)\\n\\ndata = ARData(100, coeffs=fixed_ar_coefficients[5], num_prev=5)\\nplt.plot(data.y_train)\\n'"
      ]
     },
     "execution_count": 6,
     "metadata": {},
     "output_type": "execute_result"
    }
   ],
   "source": [
    "\"\"\"\n",
    "Code to generate autoregressive data.\n",
    "\n",
    "Blog post: http://www.jessicayung.com/generating-autoregressive-data-for-experiments=\n",
    "\n",
    "Author: Jessiac Yung\n",
    "Sept 2018\n",
    "\"\"\"\n",
    "import numpy as np\n",
    "from sklearn.model_selection import train_test_split\n",
    "\n",
    "class TimeSeriesData:\n",
    "    def __init__(self, num_datapoints, test_size=0.2, max_t=20, num_prev=1,\n",
    "                 noise_var=1):\n",
    "        \"\"\"\n",
    "        Template class for generating time series data.\n",
    "        :param test_size: in (0,1), data to be used in test set as a fraction of all data generated.\n",
    "        \"\"\"\n",
    "        self.num_datapoints = num_datapoints\n",
    "        self.test_size = test_size\n",
    "        self.num_prev = num_prev\n",
    "        self.max_t = max_t\n",
    "        self.data = None\n",
    "        self.noise_var = noise_var\n",
    "        self.y = np.zeros(num_datapoints + num_prev*4) # TODO: check this\n",
    "        self.bayes_preds = np.copy(self.y)\n",
    "\n",
    "        # Generate data and reshape data\n",
    "        self.create_data()\n",
    "\n",
    "        # Split into training and test sets\n",
    "        self.train_test_split()\n",
    "\n",
    "    def create_data(self):\n",
    "        self.generate_data()\n",
    "        self.reshape_data()\n",
    "\n",
    "    def generate_data(self):\n",
    "        \"\"\"Generates data in self.y, may take as implicit input timesteps self.t.\n",
    "        May also generate Bayes predictions.\"\"\"\n",
    "        raise NotImplementedError(\"Generate data method not implemented.\")\n",
    "\n",
    "    def reshape_data(self):\n",
    "        self.x = np.reshape([self.y[i:i + self.num_prev] for i in range(\n",
    "            self.num_datapoints)], (-1, self.num_prev))\n",
    "        self.y = np.copy(self.y[self.num_prev:])\n",
    "        self.bayes_preds = np.copy(self.bayes_preds[self.num_prev:])\n",
    "\n",
    "    def train_test_split(self):\n",
    "        test_size = int(len(self.y) * self.test_size)\n",
    "        self.data = [self.X_train, self.X_test, self.y_train,\n",
    "                     self.y_test] = \\\n",
    "                    self.x[:-test_size], self.x[-test_size:], \\\n",
    "                    self.y[:-test_size], self.y[-test_size:]\n",
    "        self.bayes_preds = [self.bayes_train_preds, self.bayes_test_preds] = self.bayes_preds[:-test_size], self.bayes_preds[-test_size:]\n",
    "\n",
    "    def return_data(self):\n",
    "        return self.data\n",
    "\n",
    "    def return_train_test(self):\n",
    "        return self.X_train, self.y_train, self.X_test, self.y_test\n",
    "\n",
    "class ARData(TimeSeriesData):\n",
    "    \"\"\"Class to generate autoregressive data.\"\"\"\n",
    "\n",
    "    def __init__(self, *args, coeffs=None, **kwargs):\n",
    "        self.given_coeffs = coeffs\n",
    "        super(ARData, self).__init__(*args, **kwargs)\n",
    "\n",
    "        if coeffs is not None:\n",
    "            self.num_prev = len(coeffs) - 1\n",
    "\n",
    "    def generate_data(self):\n",
    "        self.generate_coefficients()\n",
    "        self.generate_initial_points()\n",
    "\n",
    "        # + 3*self.num_prev because we want to cut first (3*self.num_prev) datapoints later\n",
    "        # so dist is more stationary (else initial num_prev datapoints will stand out as diff dist)\n",
    "        for i in range(self.num_datapoints+3*self.num_prev):\n",
    "            # Generate y value if there was no noise\n",
    "            # (equivalent to Bayes predictions: predictions from oracle that knows true parameters (coefficients))\n",
    "            self.bayes_preds[i + self.num_prev] = np.dot(self.y[i:self.num_prev+i][::-1], self.coeffs)\n",
    "            # Add noise\n",
    "            self.y[i + self.num_prev] = self.bayes_preds[i + self.num_prev] + self.noise()\n",
    "\n",
    "        # Cut first 20 points so dist is roughly stationary\n",
    "        self.bayes_preds = self.bayes_preds[3*self.num_prev:]\n",
    "        self.y = self.y[3*self.num_prev:]\n",
    "\n",
    "    def generate_coefficients(self):\n",
    "        if self.given_coeffs is not None:\n",
    "            self.coeffs = self.given_coeffs\n",
    "        else:\n",
    "            filter_stable = False\n",
    "            # Keep generating coefficients until we come across a set of coefficients\n",
    "            # that correspond to stable poles\n",
    "            while not filter_stable:\n",
    "                true_theta = np.random.random(self.num_prev) - 0.5\n",
    "                coefficients = np.append(1, -true_theta)\n",
    "                # check if magnitude of all poles is less than one\n",
    "                if np.max(np.abs(np.roots(coefficients))) < 1:\n",
    "                    filter_stable = True\n",
    "            self.coeffs = true_theta\n",
    "\n",
    "    def generate_initial_points(self):\n",
    "        # Initial datapoints distributed as N(0,1)\n",
    "        self.y[:self.num_prev] = np.random.randn(self.num_prev)\n",
    "\n",
    "    def noise(self):\n",
    "        # Noise distributed as N(0, self.noise_var)\n",
    "        return self.noise_var * np.random.randn()\n",
    "\n",
    "# A set of coefficients that are stable (to produce replicable plots, experiments)\n",
    "fixed_ar_coefficients = {2: [ 0.46152873, -0.29890739],\n",
    "    5: [ 0.02519834, -0.24396899,  0.2785921,   0.14682383,  0.39390468],\n",
    "                        10: [-0.10958935, -0.34564819,  0.3682048,   0.3134046,  -0.21553732,  0.34613629,\n",
    "  0.41916508,  0.0165352,   0.14163503, -0.38844378],\n",
    "                         20: [ 0.1937815,   0.01201026,  0.00464018, -0.21887467, -0.20113385, -0.02322278,\n",
    "  0.34285319, -0.21069086,  0.06604683, -0.22377364,  0.11714593, -0.07122126,\n",
    " -0.16346554,  0.03174824,  0.308584,    0.06881604,  0.24840789, -0.32735569,\n",
    "  0.21939492, 0.3996207 ]}\n",
    "\n",
    "\"\"\"\n",
    "Example of using fixed coefficients (consistency across tests of different models)\n",
    "\n",
    "data = ARData(100, coeffs=fixed_ar_coefficients[5], num_prev=5)\n",
    "plt.plot(data.y_train)\n",
    "\"\"\""
   ]
  },
  {
   "cell_type": "code",
   "execution_count": 29,
   "metadata": {},
   "outputs": [
    {
     "data": {
      "text/plain": [
       "tensor([[[ 0.0788],\n",
       "         [-0.0132],\n",
       "         [ 0.2002],\n",
       "         ...,\n",
       "         [ 0.0983],\n",
       "         [-0.0994],\n",
       "         [ 0.1477]],\n",
       "\n",
       "        [[ 0.2673],\n",
       "         [ 0.3348],\n",
       "         [-0.0122],\n",
       "         ...,\n",
       "         [ 0.3892],\n",
       "         [ 0.2896],\n",
       "         [ 0.1705]],\n",
       "\n",
       "        [[ 0.3373],\n",
       "         [ 0.2519],\n",
       "         [ 0.2447],\n",
       "         ...,\n",
       "         [-0.0648],\n",
       "         [-0.0719],\n",
       "         [-0.1105]],\n",
       "\n",
       "        ...,\n",
       "\n",
       "        [[-0.0558],\n",
       "         [-0.0401],\n",
       "         [-0.0049],\n",
       "         ...,\n",
       "         [-0.1275],\n",
       "         [-0.0239],\n",
       "         [ 0.0369]],\n",
       "\n",
       "        [[-0.0957],\n",
       "         [-0.0303],\n",
       "         [ 0.0487],\n",
       "         ...,\n",
       "         [ 0.0921],\n",
       "         [ 0.0753],\n",
       "         [ 0.0544]],\n",
       "\n",
       "        [[ 0.1608],\n",
       "         [ 0.1868],\n",
       "         [ 0.1212],\n",
       "         ...,\n",
       "         [ 0.0764],\n",
       "         [ 0.1187],\n",
       "         [ 0.0949]]])"
      ]
     },
     "execution_count": 29,
     "metadata": {},
     "output_type": "execute_result"
    }
   ],
   "source": [
    "X_train"
   ]
  },
  {
   "cell_type": "code",
   "execution_count": 7,
   "metadata": {},
   "outputs": [
    {
     "name": "stderr",
     "output_type": "stream",
     "text": [
      "C:\\Users\\Bar-ASUS\\Anaconda3\\lib\\site-packages\\torch\\nn\\functional.py:52: UserWarning: size_average and reduce args will be deprecated, please use reduction='sum' instead.\n",
      "  warnings.warn(warning.format(ret))\n"
     ]
    },
    {
     "name": "stdout",
     "output_type": "stream",
     "text": [
      "Epoch  0 MSE:  2.5470476150512695\n",
      "Epoch  100 MSE:  1.1299927234649658\n",
      "Epoch  200 MSE:  1.0965232849121094\n",
      "Epoch  300 MSE:  0.627108097076416\n",
      "Epoch  400 MSE:  0.6046569347381592\n"
     ]
    },
    {
     "data": {
      "text/plain": [
       "<Figure size 640x480 with 1 Axes>"
      ]
     },
     "metadata": {},
     "output_type": "display_data"
    },
    {
     "data": {
      "text/plain": [
       "<Figure size 640x480 with 1 Axes>"
      ]
     },
     "metadata": {},
     "output_type": "display_data"
    }
   ],
   "source": [
    "import torch\n",
    "import torch.nn as nn\n",
    "#from generate_data import *\n",
    "import matplotlib.pyplot as plt\n",
    "\n",
    "#####################\n",
    "# Set parameters\n",
    "#####################\n",
    "\n",
    "# Data params\n",
    "noise_var = 0\n",
    "num_datapoints = 100\n",
    "test_size = 0.2\n",
    "num_train = int((1-test_size) * num_datapoints)\n",
    "\n",
    "# Network params\n",
    "input_size = 20\n",
    "# If `per_element` is True, then LSTM reads in one timestep at a time.\n",
    "per_element = True\n",
    "if per_element:\n",
    "    lstm_input_size = 1\n",
    "else:\n",
    "    lstm_input_size = input_size\n",
    "# size of hidden layers\n",
    "h1 = 32\n",
    "output_dim = 1\n",
    "num_layers = 2\n",
    "learning_rate = 1e-3\n",
    "num_epochs = 500\n",
    "dtype = torch.float\n",
    "\n",
    "#####################\n",
    "# Generate data\n",
    "#####################\n",
    "data = ARData(num_datapoints, num_prev=input_size, test_size=test_size, noise_var=noise_var, coeffs=fixed_ar_coefficients[input_size])\n",
    "\n",
    "# make training and test sets in torch\n",
    "X_train = torch.from_numpy(data.X_train).type(torch.Tensor)\n",
    "X_test = torch.from_numpy(data.X_test).type(torch.Tensor)\n",
    "y_train = torch.from_numpy(data.y_train).type(torch.Tensor).view(-1)\n",
    "y_test = torch.from_numpy(data.y_test).type(torch.Tensor).view(-1)\n",
    "\n",
    "X_train = X_train.view([input_size, -1, 1])\n",
    "X_test = X_test.view([input_size, -1, 1])\n",
    "\n",
    "#####################\n",
    "# Build model\n",
    "#####################\n",
    "\n",
    "# Here we define our model as a class\n",
    "class LSTM(nn.Module):\n",
    "\n",
    "    def __init__(self, input_dim, hidden_dim, batch_size, output_dim=1,\n",
    "                    num_layers=2):\n",
    "        super(LSTM, self).__init__()\n",
    "        self.input_dim = input_dim\n",
    "        self.hidden_dim = hidden_dim\n",
    "        self.batch_size = batch_size\n",
    "        self.num_layers = num_layers\n",
    "\n",
    "        # Define the LSTM layer\n",
    "        self.lstm = nn.LSTM(self.input_dim, self.hidden_dim, self.num_layers)\n",
    "\n",
    "        # Define the output layer\n",
    "        self.linear = nn.Linear(self.hidden_dim, output_dim)\n",
    "\n",
    "    def init_hidden(self):\n",
    "        # This is what we'll initialise our hidden state as\n",
    "        return (torch.zeros(self.num_layers, self.batch_size, self.hidden_dim),\n",
    "                torch.zeros(self.num_layers, self.batch_size, self.hidden_dim))\n",
    "\n",
    "    def forward(self, input):\n",
    "        # Forward pass through LSTM layer\n",
    "        # shape of lstm_out: [input_size, batch_size, hidden_dim]\n",
    "        # shape of self.hidden: (a, b), where a and b both \n",
    "        # have shape (num_layers, batch_size, hidden_dim).\n",
    "        lstm_out, self.hidden = self.lstm(input.view(len(input), self.batch_size, -1))\n",
    "        \n",
    "        # Only take the output from the final timetep\n",
    "        # Can pass on the entirety of lstm_out to the next layer if it is a seq2seq prediction\n",
    "        y_pred = self.linear(lstm_out[-1].view(self.batch_size, -1))\n",
    "        return y_pred.view(-1)\n",
    "\n",
    "model = LSTM(lstm_input_size, h1, batch_size=num_train, output_dim=output_dim, num_layers=num_layers)\n",
    "\n",
    "loss_fn = torch.nn.MSELoss(size_average=False)\n",
    "\n",
    "optimiser = torch.optim.Adam(model.parameters(), lr=learning_rate)\n",
    "\n",
    "#####################\n",
    "# Train model\n",
    "#####################\n",
    "\n",
    "hist = np.zeros(num_epochs)\n",
    "\n",
    "for t in range(num_epochs):\n",
    "    # Initialise hidden state\n",
    "    # Don't do this if you want your LSTM to be stateful\n",
    "    model.hidden = model.init_hidden()\n",
    "    \n",
    "    # Forward pass\n",
    "    y_pred = model(X_train)\n",
    "\n",
    "    loss = loss_fn(y_pred, y_train)\n",
    "    if t % 100 == 0:\n",
    "        print(\"Epoch \", t, \"MSE: \", loss.item())\n",
    "    hist[t] = loss.item()\n",
    "\n",
    "    # Zero out gradient, else they will accumulate between epochs\n",
    "    optimiser.zero_grad()\n",
    "\n",
    "    # Backward pass\n",
    "    loss.backward()\n",
    "\n",
    "    # Update parameters\n",
    "    optimiser.step()\n",
    "\n",
    "#####################\n",
    "# Plot preds and performance\n",
    "#####################\n",
    "\n",
    "plt.plot(y_pred.detach().numpy(), label=\"Preds\")\n",
    "plt.plot(y_train.detach().numpy(), label=\"Data\")\n",
    "plt.legend()\n",
    "plt.show()\n",
    "\n",
    "plt.plot(hist, label=\"Training loss\")\n",
    "plt.legend()\n",
    "plt.show()"
   ]
  },
  {
   "cell_type": "code",
   "execution_count": 11,
   "metadata": {},
   "outputs": [
    {
     "data": {
      "image/png": "[encoded data removed]",
      "text/plain": [
       "<Figure size 432x288 with 1 Axes>"
      ]
     },
     "metadata": {
      "needs_background": "light"
     },
     "output_type": "display_data"
    },
    {
     "data": {
      "image/png": "[encoded data removed]",
      "text/plain": [
       "<Figure size 432x288 with 1 Axes>"
      ]
     },
     "metadata": {
      "needs_background": "light"
     },
     "output_type": "display_data"
    }
   ],
   "source": [
    "plt.plot(y_pred.detach().numpy(), label=\"Preds\")\n",
    "plt.plot(y_train.detach().numpy(), label=\"Data\")\n",
    "plt.legend()\n",
    "plt.show()\n",
    "\n",
    "plt.plot(hist, label=\"Training loss\")\n",
    "plt.legend()\n",
    "plt.show()"
   ]
  },
  {
   "cell_type": "code",
   "execution_count": 9,
   "metadata": {},
   "outputs": [
    {
     "data": {
      "text/plain": [
       "(array([[ 0.07876494, -0.01319173,  0.2001687 , ...,  0.06891423,\n",
       "         -0.06991438,  0.1593124 ],\n",
       "        [-0.01319173,  0.2001687 ,  0.41128443, ..., -0.06991438,\n",
       "          0.1593124 ,  0.09826818],\n",
       "        [ 0.2001687 ,  0.41128443,  0.26733681, ...,  0.1593124 ,\n",
       "          0.09826818, -0.09941869],\n",
       "        ...,\n",
       "        [ 0.18676953,  0.12115451,  0.04421901, ...,  0.05444689,\n",
       "          0.02575624,  0.07637904],\n",
       "        [ 0.12115451,  0.04421901, -0.00583175, ...,  0.02575624,\n",
       "          0.07637904,  0.11865387],\n",
       "        [ 0.04421901, -0.00583175, -0.01152814, ...,  0.07637904,\n",
       "          0.11865387,  0.09493389]]),\n",
       " array([[-0.00583175, -0.01152814,  0.05449234,  0.00320722, -0.0328033 ,\n",
       "         -0.04105339, -0.11171373, -0.15188223, -0.12754688, -0.02386131,\n",
       "          0.03691018,  0.06761867,  0.09205647,  0.075318  ,  0.05444689,\n",
       "          0.02575624,  0.07637904,  0.11865387,  0.09493389,  0.06356413],\n",
       "        [-0.01152814,  0.05449234,  0.00320722, -0.0328033 , -0.04105339,\n",
       "         -0.11171373, -0.15188223, -0.12754688, -0.02386131,  0.03691018,\n",
       "          0.06761867,  0.09205647,  0.075318  ,  0.05444689,  0.02575624,\n",
       "          0.07637904,  0.11865387,  0.09493389,  0.06356413, -0.01577756],\n",
       "        [ 0.05449234,  0.00320722, -0.0328033 , -0.04105339, -0.11171373,\n",
       "         -0.15188223, -0.12754688, -0.02386131,  0.03691018,  0.06761867,\n",
       "          0.09205647,  0.075318  ,  0.05444689,  0.02575624,  0.07637904,\n",
       "          0.11865387,  0.09493389,  0.06356413, -0.01577756, -0.0671345 ],\n",
       "        [ 0.00320722, -0.0328033 , -0.04105339, -0.11171373, -0.15188223,\n",
       "         -0.12754688, -0.02386131,  0.03691018,  0.06761867,  0.09205647,\n",
       "          0.075318  ,  0.05444689,  0.02575624,  0.07637904,  0.11865387,\n",
       "          0.09493389,  0.06356413, -0.01577756, -0.0671345 , -0.10398006],\n",
       "        [-0.0328033 , -0.04105339, -0.11171373, -0.15188223, -0.12754688,\n",
       "         -0.02386131,  0.03691018,  0.06761867,  0.09205647,  0.075318  ,\n",
       "          0.05444689,  0.02575624,  0.07637904,  0.11865387,  0.09493389,\n",
       "          0.06356413, -0.01577756, -0.0671345 , -0.10398006, -0.12014986],\n",
       "        [-0.04105339, -0.11171373, -0.15188223, -0.12754688, -0.02386131,\n",
       "          0.03691018,  0.06761867,  0.09205647,  0.075318  ,  0.05444689,\n",
       "          0.02575624,  0.07637904,  0.11865387,  0.09493389,  0.06356413,\n",
       "         -0.01577756, -0.0671345 , -0.10398006, -0.12014986, -0.06930311],\n",
       "        [-0.11171373, -0.15188223, -0.12754688, -0.02386131,  0.03691018,\n",
       "          0.06761867,  0.09205647,  0.075318  ,  0.05444689,  0.02575624,\n",
       "          0.07637904,  0.11865387,  0.09493389,  0.06356413, -0.01577756,\n",
       "         -0.0671345 , -0.10398006, -0.12014986, -0.06930311, -0.01715254],\n",
       "        [-0.15188223, -0.12754688, -0.02386131,  0.03691018,  0.06761867,\n",
       "          0.09205647,  0.075318  ,  0.05444689,  0.02575624,  0.07637904,\n",
       "          0.11865387,  0.09493389,  0.06356413, -0.01577756, -0.0671345 ,\n",
       "         -0.10398006, -0.12014986, -0.06930311, -0.01715254, -0.00453233],\n",
       "        [-0.12754688, -0.02386131,  0.03691018,  0.06761867,  0.09205647,\n",
       "          0.075318  ,  0.05444689,  0.02575624,  0.07637904,  0.11865387,\n",
       "          0.09493389,  0.06356413, -0.01577756, -0.0671345 , -0.10398006,\n",
       "         -0.12014986, -0.06930311, -0.01715254, -0.00453233, -0.02975242],\n",
       "        [-0.02386131,  0.03691018,  0.06761867,  0.09205647,  0.075318  ,\n",
       "          0.05444689,  0.02575624,  0.07637904,  0.11865387,  0.09493389,\n",
       "          0.06356413, -0.01577756, -0.0671345 , -0.10398006, -0.12014986,\n",
       "         -0.06930311, -0.01715254, -0.00453233, -0.02975242, -0.01682441],\n",
       "        [ 0.03691018,  0.06761867,  0.09205647,  0.075318  ,  0.05444689,\n",
       "          0.02575624,  0.07637904,  0.11865387,  0.09493389,  0.06356413,\n",
       "         -0.01577756, -0.0671345 , -0.10398006, -0.12014986, -0.06930311,\n",
       "         -0.01715254, -0.00453233, -0.02975242, -0.01682441, -0.00764428],\n",
       "        [ 0.06761867,  0.09205647,  0.075318  ,  0.05444689,  0.02575624,\n",
       "          0.07637904,  0.11865387,  0.09493389,  0.06356413, -0.01577756,\n",
       "         -0.0671345 , -0.10398006, -0.12014986, -0.06930311, -0.01715254,\n",
       "         -0.00453233, -0.02975242, -0.01682441, -0.00764428, -0.00239112],\n",
       "        [ 0.09205647,  0.075318  ,  0.05444689,  0.02575624,  0.07637904,\n",
       "          0.11865387,  0.09493389,  0.06356413, -0.01577756, -0.0671345 ,\n",
       "         -0.10398006, -0.12014986, -0.06930311, -0.01715254, -0.00453233,\n",
       "         -0.02975242, -0.01682441, -0.00764428, -0.00239112,  0.06020065],\n",
       "        [ 0.075318  ,  0.05444689,  0.02575624,  0.07637904,  0.11865387,\n",
       "          0.09493389,  0.06356413, -0.01577756, -0.0671345 , -0.10398006,\n",
       "         -0.12014986, -0.06930311, -0.01715254, -0.00453233, -0.02975242,\n",
       "         -0.01682441, -0.00764428, -0.00239112,  0.06020065,  0.1150667 ],\n",
       "        [ 0.05444689,  0.02575624,  0.07637904,  0.11865387,  0.09493389,\n",
       "          0.06356413, -0.01577756, -0.0671345 , -0.10398006, -0.12014986,\n",
       "         -0.06930311, -0.01715254, -0.00453233, -0.02975242, -0.01682441,\n",
       "         -0.00764428, -0.00239112,  0.06020065,  0.1150667 ,  0.14037062],\n",
       "        [ 0.02575624,  0.07637904,  0.11865387,  0.09493389,  0.06356413,\n",
       "         -0.01577756, -0.0671345 , -0.10398006, -0.12014986, -0.06930311,\n",
       "         -0.01715254, -0.00453233, -0.02975242, -0.01682441, -0.00764428,\n",
       "         -0.00239112,  0.06020065,  0.1150667 ,  0.14037062,  0.09827566],\n",
       "        [ 0.07637904,  0.11865387,  0.09493389,  0.06356413, -0.01577756,\n",
       "         -0.0671345 , -0.10398006, -0.12014986, -0.06930311, -0.01715254,\n",
       "         -0.00453233, -0.02975242, -0.01682441, -0.00764428, -0.00239112,\n",
       "          0.06020065,  0.1150667 ,  0.14037062,  0.09827566,  0.03938522],\n",
       "        [ 0.11865387,  0.09493389,  0.06356413, -0.01577756, -0.0671345 ,\n",
       "         -0.10398006, -0.12014986, -0.06930311, -0.01715254, -0.00453233,\n",
       "         -0.02975242, -0.01682441, -0.00764428, -0.00239112,  0.06020065,\n",
       "          0.1150667 ,  0.14037062,  0.09827566,  0.03938522,  0.01092947],\n",
       "        [ 0.09493389,  0.06356413, -0.01577756, -0.0671345 , -0.10398006,\n",
       "         -0.12014986, -0.06930311, -0.01715254, -0.00453233, -0.02975242,\n",
       "         -0.01682441, -0.00764428, -0.00239112,  0.06020065,  0.1150667 ,\n",
       "          0.14037062,  0.09827566,  0.03938522,  0.01092947, -0.03086556],\n",
       "        [ 0.06356413, -0.01577756, -0.0671345 , -0.10398006, -0.12014986,\n",
       "         -0.06930311, -0.01715254, -0.00453233, -0.02975242, -0.01682441,\n",
       "         -0.00764428, -0.00239112,  0.06020065,  0.1150667 ,  0.14037062,\n",
       "          0.09827566,  0.03938522,  0.01092947, -0.03086556, -0.04009838]]),\n",
       " array([ 0.09826818, -0.09941869,  0.14772606,  0.24712658,  0.38916115,\n",
       "         0.28957923,  0.17049932,  0.12164081, -0.06477322, -0.07190036,\n",
       "        -0.11052078,  0.02777512,  0.01473097, -0.12047036, -0.08891354,\n",
       "        -0.15392201, -0.06381156, -0.07932419,  0.07275037,  0.33184052,\n",
       "         0.22230616,  0.1584463 ,  0.11901851,  0.10782262,  0.04554214,\n",
       "         0.05026145,  0.16278307,  0.06113565, -0.02441145, -0.15248271,\n",
       "        -0.185548  , -0.13049283, -0.15858036, -0.01146132,  0.07151077,\n",
       "         0.10385594,  0.07537381, -0.00320842,  0.07957007,  0.12219848,\n",
       "         0.15707488,  0.17525827,  0.19410553,  0.09896408, -0.09682378,\n",
       "        -0.08682425, -0.09140552, -0.09553182, -0.05575941, -0.04005699,\n",
       "        -0.00487557, -0.07924814, -0.0957329 , -0.03028305,  0.04865287,\n",
       "         0.13345818,  0.1607963 ,  0.18676953,  0.12115451,  0.04421901,\n",
       "        -0.00583175, -0.01152814,  0.05449234,  0.00320722, -0.0328033 ,\n",
       "        -0.04105339, -0.11171373, -0.15188223, -0.12754688, -0.02386131,\n",
       "         0.03691018,  0.06761867,  0.09205647,  0.075318  ,  0.05444689,\n",
       "         0.02575624,  0.07637904,  0.11865387,  0.09493389,  0.06356413]),\n",
       " array([-0.01577756, -0.0671345 , -0.10398006, -0.12014986, -0.06930311,\n",
       "        -0.01715254, -0.00453233, -0.02975242, -0.01682441, -0.00764428,\n",
       "        -0.00239112,  0.06020065,  0.1150667 ,  0.14037062,  0.09827566,\n",
       "         0.03938522,  0.01092947, -0.03086556, -0.04009838, -0.02263941]))"
      ]
     },
     "execution_count": 9,
     "metadata": {},
     "output_type": "execute_result"
    }
   ],
   "source": [
    "data.data"
   ]
  },
  {
   "cell_type": "code",
   "execution_count": 10,
   "metadata": {},
   "outputs": [],
   "source": [
    "%matplotlib inline"
   ]
  },
  {
   "cell_type": "code",
   "execution_count": 12,
   "metadata": {},
   "outputs": [
    {
     "data": {
      "text/plain": [
       "array([[ 0.07876494, -0.01319173,  0.2001687 , ...,  0.06891423,\n",
       "        -0.06991438,  0.1593124 ],\n",
       "       [-0.01319173,  0.2001687 ,  0.41128443, ..., -0.06991438,\n",
       "         0.1593124 ,  0.09826818],\n",
       "       [ 0.2001687 ,  0.41128443,  0.26733681, ...,  0.1593124 ,\n",
       "         0.09826818, -0.09941869],\n",
       "       ...,\n",
       "       [ 0.18676953,  0.12115451,  0.04421901, ...,  0.05444689,\n",
       "         0.02575624,  0.07637904],\n",
       "       [ 0.12115451,  0.04421901, -0.00583175, ...,  0.02575624,\n",
       "         0.07637904,  0.11865387],\n",
       "       [ 0.04421901, -0.00583175, -0.01152814, ...,  0.07637904,\n",
       "         0.11865387,  0.09493389]])"
      ]
     },
     "execution_count": 12,
     "metadata": {},
     "output_type": "execute_result"
    }
   ],
   "source": [
    "data.X_train"
   ]
  },
  {
   "cell_type": "code",
   "execution_count": null,
   "metadata": {},
   "outputs": [],
   "source": []
  }
 ],
 "metadata": {
  "kernelspec": {
   "display_name": "Python 3",
   "language": "python",
   "name": "python3"
  },
  "language_info": {
   "codemirror_mode": {
    "name": "ipython",
    "version": 3
   },
   "file_extension": ".py",
   "mimetype": "text/x-python",
   "name": "python",
   "nbconvert_exporter": "python",
   "pygments_lexer": "ipython3",
   "version": "3.7.1"
  }
 },
 "nbformat": 4,
 "nbformat_minor": 2
}
