{
 "cells": [
  {
   "cell_type": "markdown",
   "metadata": {},
   "source": [
    "# MNIST Example with your own implementation (BONUS)\n",
    "\n",
    "Now, in this part, you will work with MNIST data (http://yann.lecun.com/exdb/mnist/) for digit classification. \n",
    "The images contain each one of the 10 numbers from 0 to 9. Class labels are similarly assigned in {0,9}. \n",
    "Use an appropriate loss function.\n",
    "\n",
    "You should build a LeNet like architecture, or even the LeNet itself, including all layers such as Conv2d, Maxpool, Dropout, and BatchNorm. You are free to design the layers as you like.\n",
    "\n",
    "IMPORTANT: You are NOT allowed to use sklearn or any other implementations for the learning part . You are ALLOWED ONLY TO USE your own implementation from the above steps."
   ]
  },
  {
   "cell_type": "code",
   "execution_count": 1,
   "metadata": {},
   "outputs": [],
   "source": [
    "from blg561.layer import layers_with_weights\n",
    "from blg561.layer import layer\n",
    "from blg561.layer.optimizers import SGDWithMomentum, VanillaSDGOptimizer\n",
    "from blg561.layer.model import Model\n",
    "from blg561.checks import grad_check,rel_error\n",
    "import numpy as np\n",
    "import scipy as sci\n",
    "import os\n",
    "from PIL import Image\n",
    "import matplotlib.pyplot as plt\n",
    "%matplotlib inline\n",
    "%load_ext autoreload\n",
    "%autoreload 2\n",
    "%reload_ext autoreload"
   ]
  },
  {
   "cell_type": "code",
   "execution_count": 2,
   "metadata": {},
   "outputs": [],
   "source": [
    "# create your own dataloader\n",
    "def load_mnist():\n",
    "    pass"
   ]
  },
  {
   "cell_type": "markdown",
   "metadata": {},
   "source": [
    "#### Create the model\n",
    "\n",
    "In below, we provide an example model."
   ]
  },
  {
   "cell_type": "code",
   "execution_count": 22,
   "metadata": {},
   "outputs": [],
   "source": [
    "model = Model()\n",
    "layers = [\n",
    "          layers_with_weights.Conv2d(in_size=1, out_size=3, kernel_size=7, stride=1, padding=1),\n",
    "          layer.MaxPool2d(pool_height=2, pool_width=2, stride=1), \n",
    "          layer.ReLU(), \n",
    "          layer.Flatten(), \n",
    "          layers_with_weights.AffineLayer(784, 100), \n",
    "          layer.ReLU(),\n",
    "          layers_with_weights.AffineLayer(100,10),\n",
    "          layer.Softmax()\n",
    "        ]\n",
    "\n",
    "modelx(layers) # Load layers to model object\n"
   ]
  },
  {
   "cell_type": "markdown",
   "metadata": {},
   "source": [
    "#### Train your model with the data and report the results as Loss Curves and Accuracy for each Digit Recognition"
   ]
  },
  {
   "cell_type": "code",
   "execution_count": null,
   "metadata": {},
   "outputs": [],
   "source": []
  }
 ],
 "metadata": {
  "kernelspec": {
   "display_name": "Python 3",
   "language": "python",
   "name": "python3"
  },
  "language_info": {
   "codemirror_mode": {
    "name": "ipython",
    "version": 3
   },
   "file_extension": ".py",
   "mimetype": "text/x-python",
   "name": "python",
   "nbconvert_exporter": "python",
   "pygments_lexer": "ipython3",
   "version": "3.6.5"
  }
 },
 "nbformat": 4,
 "nbformat_minor": 2
}
