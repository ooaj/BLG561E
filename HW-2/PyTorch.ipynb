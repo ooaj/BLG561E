{
 "cells": [
  {
   "cell_type": "markdown",
   "metadata": {
    "colab_type": "text",
    "id": "wUsnQr4ryqK8"
   },
   "source": [
    "# Environment setup\n",
    "Follow the tutorial about how to utilize Google Colab but **don't install PyTorch** as mentioned in the blog post.\n",
    "\n",
    "Turkish:\n",
    "https://medium.com/deep-learning-turkiye/google-colab-ile-%C3%BCcretsiz-gpu-kullan%C4%B1m%C4%B1-30fdb7dd822e\n",
    "\n",
    "English:\n",
    "https://medium.com/deep-learning-turkey/google-colab-free-gpu-tutorial-e113627b9f5d\n",
    "\n"
   ]
  },
  {
   "cell_type": "markdown",
   "metadata": {
    "colab_type": "text",
    "id": "UL4h9pW8yqLA"
   },
   "source": [
    "\n",
    "# Now, you will work on the problem of Food Classification using a subset of Food-101 data, where you have 50 classes \n",
    "\n",
    "After having mounted the Jupyter Notebook to Google Drive, navigate the following address:\n",
    "\n",
    "https://drive.google.com/open?id=13zG2cXkDZiSGZTALgZD09OP7HSF1twWV\n",
    "\n",
    "Add this folder entirely to your Google Drive. If you have done it correctly, then you should be able to see blg561 in your drive.\n",
    "\n",
    "Let's try it with an simple example\n",
    "\n"
   ]
  },
  {
   "cell_type": "markdown",
   "metadata": {
    "colab_type": "text",
    "id": "qryg9cIOyqLE"
   },
   "source": [
    "### Don't forget to choose the right runtime from the menu above. (GPU should be selected)"
   ]
  },
  {
   "cell_type": "code",
   "execution_count": 0,
   "metadata": {
    "colab": {
     "base_uri": "https://localhost:8080/",
     "height": 329
    },
    "colab_type": "code",
    "executionInfo": {
     "elapsed": 5502,
     "status": "ok",
     "timestamp": 1542999656501,
     "user": {
      "displayName": "Ozgun A",
      "photoUrl": "",
      "userId": "01666726277915478621"
     },
     "user_tz": -180
    },
    "id": "VOBaJnS2yqLM",
    "outputId": "a0a3e4f5-8357-40f7-8ca8-ec9f315b0fcd"
   },
   "outputs": [
    {
     "name": "stdout",
     "output_type": "stream",
     "text": [
      "Fri Nov 23 19:02:02 2018       \n",
      "+-----------------------------------------------------------------------------+\n",
      "| NVIDIA-SMI 396.44                 Driver Version: 396.44                    |\n",
      "|-------------------------------+----------------------+----------------------+\n",
      "| GPU  Name        Persistence-M| Bus-Id        Disp.A | Volatile Uncorr. ECC |\n",
      "| Fan  Temp  Perf  Pwr:Usage/Cap|         Memory-Usage | GPU-Util  Compute M. |\n",
      "|===============================+======================+======================|\n",
      "|   0  Tesla K80           Off  | 00000000:00:04.0 Off |                    0 |\n",
      "| N/A   40C    P8    28W / 149W |      0MiB / 11441MiB |      0%      Default |\n",
      "+-------------------------------+----------------------+----------------------+\n",
      "                                                                               \n",
      "+-----------------------------------------------------------------------------+\n",
      "| Processes:                                                       GPU Memory |\n",
      "|  GPU       PID   Type   Process name                             Usage      |\n",
      "|=============================================================================|\n",
      "|  No running processes found                                                 |\n",
      "+-----------------------------------------------------------------------------+\n"
     ]
    }
   ],
   "source": [
    "!nvidia-smi\n",
    "# This command should return some information about the GPU status if the runtime is right. \n",
    "# In addition to that, if you encounter memory issues, you can diagnose your model by this command."
   ]
  },
  {
   "cell_type": "code",
   "execution_count": 0,
   "metadata": {
    "colab": {
     "base_uri": "https://localhost:8080/",
     "height": 35
    },
    "colab_type": "code",
    "executionInfo": {
     "elapsed": 656,
     "status": "ok",
     "timestamp": 1543244425723,
     "user": {
      "displayName": "Ozgun A",
      "photoUrl": "",
      "userId": "01666726277915478621"
     },
     "user_tz": -180
    },
    "id": "qkXGwBlqnZeZ",
    "outputId": "f97c343a-1392-4360-a1c0-6ccb0a0970b4"
   },
   "outputs": [
    {
     "name": "stdout",
     "output_type": "stream",
     "text": [
      "Drive already mounted at /content/drive/; to attempt to forcibly remount, call drive.mount(\"/content/drive/\", force_remount=True).\n"
     ]
    }
   ],
   "source": [
    "from google.colab import drive\n",
    "drive.mount('/content/drive/')"
   ]
  },
  {
   "cell_type": "code",
   "execution_count": 0,
   "metadata": {
    "colab": {
     "base_uri": "https://localhost:8080/",
     "height": 35
    },
    "colab_type": "code",
    "executionInfo": {
     "elapsed": 600,
     "status": "ok",
     "timestamp": 1543230624404,
     "user": {
      "displayName": "Ozgun A",
      "photoUrl": "",
      "userId": "01666726277915478621"
     },
     "user_tz": -180
    },
    "id": "OKFaIIpy7Gu7",
    "outputId": "dc982c62-5a3d-4113-b036-429542ff5566"
   },
   "outputs": [
    {
     "name": "stdout",
     "output_type": "stream",
     "text": [
      "/content/drive/My Drive/BLG561E\n"
     ]
    }
   ],
   "source": [
    "# This is for navigating to the work folder. \n",
    "%cd /content/drive/My\\ Drive/BLG561E"
   ]
  },
  {
   "cell_type": "code",
   "execution_count": 0,
   "metadata": {
    "colab": {
     "base_uri": "https://localhost:8080/",
     "height": 404
    },
    "colab_type": "code",
    "executionInfo": {
     "elapsed": 49874,
     "status": "ok",
     "timestamp": 1543230676257,
     "user": {
      "displayName": "Ozgun A",
      "photoUrl": "",
      "userId": "01666726277915478621"
     },
     "user_tz": -180
    },
    "id": "T3ear26kyqLV",
    "outputId": "d0f59eee-b948-4c01-a27d-3e87c78b0036"
   },
   "outputs": [
    {
     "name": "stdout",
     "output_type": "stream",
     "text": [
      "Collecting torch==0.4.1 (from -r blg561/requirements.txt (line 1))\n",
      "\u001b[?25l  Downloading https://files.pythonhosted.org/packages/49/0e/e382bcf1a6ae8225f50b99cc26effa2d4cc6d66975ccf3fa9590efcbedce/torch-0.4.1-cp36-cp36m-manylinux1_x86_64.whl (519.5MB)\n",
      "\u001b[K    100% |████████████████████████████████| 519.5MB 31kB/s \n",
      "tcmalloc: large alloc 1073750016 bytes == 0x59a44000 @  0x7fac7f14d2a4 0x591a07 0x5b5d56 0x502e9a 0x506859 0x502209 0x502f3d 0x506859 0x504c28 0x502540 0x502f3d 0x506859 0x504c28 0x502540 0x502f3d 0x506859 0x504c28 0x502540 0x502f3d 0x507641 0x502209 0x502f3d 0x506859 0x504c28 0x502540 0x502f3d 0x507641 0x504c28 0x502540 0x502f3d 0x507641\n",
      "\u001b[?25hCollecting torchvision==0.2.1 (from -r blg561/requirements.txt (line 2))\n",
      "\u001b[?25l  Downloading https://files.pythonhosted.org/packages/ca/0d/f00b2885711e08bd71242ebe7b96561e6f6d01fdb4b9dcf4d37e2e13c5e1/torchvision-0.2.1-py2.py3-none-any.whl (54kB)\n",
      "\u001b[K    100% |████████████████████████████████| 61kB 20.6MB/s \n",
      "\u001b[?25hRequirement already satisfied: Pillow==4.0.0 in /usr/local/lib/python3.6/dist-packages (from -r blg561/requirements.txt (line 3)) (4.0.0)\n",
      "Requirement already satisfied: scipy in /usr/local/lib/python3.6/dist-packages (from -r blg561/requirements.txt (line 4)) (1.1.0)\n",
      "Requirement already satisfied: numpy in /usr/local/lib/python3.6/dist-packages (from -r blg561/requirements.txt (line 5)) (1.14.6)\n",
      "Requirement already satisfied: matplotlib in /usr/local/lib/python3.6/dist-packages (from -r blg561/requirements.txt (line 6)) (2.1.2)\n",
      "Requirement already satisfied: six in /usr/local/lib/python3.6/dist-packages (from torchvision==0.2.1->-r blg561/requirements.txt (line 2)) (1.11.0)\n",
      "Requirement already satisfied: olefile in /usr/local/lib/python3.6/dist-packages (from Pillow==4.0.0->-r blg561/requirements.txt (line 3)) (0.46)\n",
      "Requirement already satisfied: pyparsing!=2.0.4,!=2.1.2,!=2.1.6,>=2.0.1 in /usr/local/lib/python3.6/dist-packages (from matplotlib->-r blg561/requirements.txt (line 6)) (2.3.0)\n",
      "Requirement already satisfied: cycler>=0.10 in /usr/local/lib/python3.6/dist-packages (from matplotlib->-r blg561/requirements.txt (line 6)) (0.10.0)\n",
      "Requirement already satisfied: pytz in /usr/local/lib/python3.6/dist-packages (from matplotlib->-r blg561/requirements.txt (line 6)) (2018.7)\n",
      "Requirement already satisfied: python-dateutil>=2.1 in /usr/local/lib/python3.6/dist-packages (from matplotlib->-r blg561/requirements.txt (line 6)) (2.5.3)\n",
      "\u001b[31mtorchvision 0.2.1 has requirement pillow>=4.1.1, but you'll have pillow 4.0.0 which is incompatible.\u001b[0m\n",
      "Installing collected packages: torch, torchvision\n",
      "Successfully installed torch-0.4.1 torchvision-0.2.1\n"
     ]
    }
   ],
   "source": [
    "!pip3 install -r blg561/requirements.txt\n",
    "# This code should install the required software if you did the integration correctly."
   ]
  },
  {
   "cell_type": "markdown",
   "metadata": {
    "colab_type": "text",
    "id": "41iGvgE2yqLf"
   },
   "source": [
    "You are free to utilize Pytorch methods in this part of the Homework. \n",
    "You will be using pretained models VGG16, ResNet, Inception and your own model.\n",
    "\n",
    "Below, you will find required modules loaded. "
   ]
  },
  {
   "cell_type": "code",
   "execution_count": 0,
   "metadata": {
    "colab": {},
    "colab_type": "code",
    "id": "OsIclTa7yqLg"
   },
   "outputs": [],
   "source": [
    "import torch\n",
    "import torch.nn as nn\n",
    "import torch.optim as optim\n",
    "from torch.autograd import Variable\n",
    "import torch.nn.functional as F\n",
    "from torch.utils.data import DataLoader, Dataset\n",
    "from torchvision.transforms.functional import normalize, resize, to_tensor\n",
    "import torchvision.models as models\n",
    "from PIL import Image\n",
    "import os\n",
    "import numpy as np\n",
    "import matplotlib.pyplot as plt\n",
    "from tqdm import tqdm\n",
    "%matplotlib inline"
   ]
  },
  {
   "cell_type": "markdown",
   "metadata": {
    "colab_type": "text",
    "id": "D6792m6OyqLo"
   },
   "source": [
    "## DataLoader and Dataset\n",
    "Here, we provide you an almost fully functional Dataset but to ensure that you understood how it works, we request you to do a little adjustment. Try to understand how this loader code works and add Train/Test/Validation split to dataset."
   ]
  },
  {
   "cell_type": "code",
   "execution_count": 0,
   "metadata": {
    "colab": {},
    "colab_type": "code",
    "id": "w3ceScT0yqLr"
   },
   "outputs": [],
   "source": [
    "def register_extension(id, extension): Image.EXTENSION[extension.lower()] = id.upper()\n",
    "Image.register_extension = register_extension\n",
    "def register_extensions(id, extensions): \n",
    "    for extension in extensions: register_extension(id, extension)\n",
    "Image.register_extensions = register_extensions\n",
    "\n",
    "### The code below is to make you be able to load by using Pillow.\n",
    "class Food101Loader(Dataset):\n",
    "    def __init__(self, path, mode='train'):\n",
    "        self.images_path = os.path.join(path, './')\n",
    "        self.image_names = {}\n",
    "        for i,d in enumerate(os.listdir(self.images_path)):\n",
    "            try:\n",
    "                d = os.path.join(self.images_path, d)\n",
    "                single_class_path = {os.path.join(d,im):i for im in os.listdir(d)}\n",
    "                self.image_names= {**self.image_names, **single_class_path}\n",
    "            except:\n",
    "                print('err')\n",
    "        \n",
    "        self.image_names = [el for el in self.image_names.items()]\n",
    "        \n",
    "        def data_splitter(image_names, mode):\n",
    "          image_names = []\n",
    "          for i in range(0, 5000, 1000):\n",
    "            if mode == \"train\":\n",
    "              image_names.extend(self.image_names[i:i+600])\n",
    "            if mode == \"test\":\n",
    "              image_names.extend(self.image_names[i+600:i+800])\n",
    "            if mode == \"val\":\n",
    "              image_names.extend(self.image_names[i+800:i+1000])\n",
    "  \n",
    "          return image_names\n",
    "        \n",
    "        if mode == 'train':\n",
    "            self.image_names = data_splitter(self.image_names, mode)\n",
    "        if mode == 'test':\n",
    "            self.image_names = data_splitter(self.image_names, mode)\n",
    "        if mode == 'val':\n",
    "            self.image_names = data_splitter(self.image_names, mode)\n",
    "            \n",
    "    # This method normalizes each image individually. You may want to normalize it by using ImageNet statistics\n",
    "    # If you would like to fine tune so feel free to do changes\n",
    "    def preprocess(self, x):\n",
    "        x = resize(x, (224, 224))\n",
    "        x = np.asarray(x)\n",
    "        x = x.transpose((2,0,1))\n",
    "        x = torch.from_numpy(x).type(torch.float)\n",
    "        normalize(x,  mean=[el.mean() for el in x] ,std=[el.std() for el in x])\n",
    "        return x\n",
    "    \n",
    "    # This method basically loads image from the file system\n",
    "    def load(self, path):\n",
    "        img = Image.open(path)\n",
    "        img.load()\n",
    "        return img\n",
    "\n",
    "    # This method should be overrided in order to access the inside of dataset\n",
    "    def __getitem__(self, ix):\n",
    "        # Get its relative path and label\n",
    "        data_path, label = self.image_names[ix]\n",
    "        \n",
    "        # Load image\n",
    "        data = self.load(data_path)\n",
    "        data_normalized = self.preprocess(data)\n",
    "        data_normalized = data_normalized\n",
    "        \n",
    "        # Then return the data and its label.\n",
    "        return data_normalized, label\n",
    "        \n",
    "        \n",
    "    # This method should be overrided in order to make it work along with DataLoader class\n",
    "    def __len__(self):\n",
    "        return len(self.image_names)"
   ]
  },
  {
   "cell_type": "markdown",
   "metadata": {
    "colab_type": "text",
    "id": "7js2q0T1yqLv"
   },
   "source": [
    "# Load separately VGG16, ResNet, Inception models\n",
    "\n",
    "You can find tutorials on how to load those models at pytorch.org . Don't forget to use pretrained=True if you wish to do finetuning."
   ]
  },
  {
   "cell_type": "code",
   "execution_count": 0,
   "metadata": {
    "colab": {},
    "colab_type": "code",
    "id": "Wy7tKbstyqL0"
   },
   "outputs": [],
   "source": [
    "# Load models here\n",
    "vgg16 = models.vgg16(pretrained=True)\n",
    "resnet18 = models.resnet18(pretrained=True)\n",
    "inception = models.inception_v3(pretrained=True)\n"
   ]
  },
  {
   "cell_type": "markdown",
   "metadata": {
    "colab_type": "text",
    "id": "S0-dMnwhyqL9"
   },
   "source": [
    "# Additionally, build your own model which is different from the other models, train on the Food dataset\n",
    "**Report your loss curves at the end of the notebook**"
   ]
  },
  {
   "cell_type": "code",
   "execution_count": 0,
   "metadata": {
    "colab": {},
    "colab_type": "code",
    "id": "oTm0xU8P1A6s"
   },
   "outputs": [],
   "source": [
    "class YourModel(nn.Module):\n",
    "    def __init__(self, num_classes=5):\n",
    "        super(YourModel, self).__init__()\n",
    "        self.layer1 = nn.Sequential(\n",
    "            nn.Conv2d(3, 16, kernel_size=5, stride=1, padding=2),\n",
    "            nn.BatchNorm2d(16),\n",
    "            nn.ReLU(),\n",
    "            nn.MaxPool2d(kernel_size=2, stride=2))\n",
    "        self.layer2 = nn.Sequential(\n",
    "            nn.Conv2d(16, 32, kernel_size=5, stride=1, padding=2),\n",
    "            nn.BatchNorm2d(32),\n",
    "            nn.ReLU(),\n",
    "            nn.MaxPool2d(kernel_size=2, stride=2))\n",
    "        self.fc = nn.Linear(100352, num_classes)\n",
    "        \n",
    "    def forward(self, x):\n",
    "        out = self.layer1(x)\n",
    "        out = self.layer2(out)\n",
    "        out = out.reshape(out.size(0), -1)\n",
    "        out = self.fc(out)\n",
    "        return out\n",
    "      \n",
    "model = YourModel()"
   ]
  },
  {
   "cell_type": "code",
   "execution_count": 0,
   "metadata": {
    "colab": {},
    "colab_type": "code",
    "id": "Kd9gLCzwBeej"
   },
   "outputs": [],
   "source": [
    "# v1\n",
    "class YourModelv1(nn.Module):\n",
    "    def __init__(self):\n",
    "        super(YourModelv1, self).__init__()\n",
    "        self.layer1 = nn.Sequential(\n",
    "            nn.Conv2d(3, 32, kernel_size=5, stride=1, padding=2),\n",
    "            nn.ReLU(),\n",
    "            nn.MaxPool2d(kernel_size=2, stride=2))\n",
    "        self.layer2 = nn.Sequential(\n",
    "            nn.Conv2d(32, 64, kernel_size=5, stride=1, padding=2),\n",
    "            nn.ReLU(),\n",
    "            nn.MaxPool2d(kernel_size=2, stride=2))\n",
    "        self.drop_out = nn.Dropout()\n",
    "        self.fc1 = nn.Linear(56 * 56 * 64, 1000)\n",
    "        self.fc2 = nn.Linear(1000, 10)\n",
    "    def forward(self, x):\n",
    "      out = self.layer1(x)\n",
    "      out = self.layer2(out)\n",
    "      out = out.reshape(out.size(0), -1)\n",
    "      out = self.drop_out(out)\n",
    "      out = self.fc1(out)\n",
    "      out = self.fc2(out)\n",
    "      return out\n",
    "    \n",
    "model = YourModelv1()"
   ]
  },
  {
   "cell_type": "code",
   "execution_count": 0,
   "metadata": {
    "colab": {},
    "colab_type": "code",
    "id": "myvBQ9zp7coy"
   },
   "outputs": [],
   "source": [
    "#v2\n",
    "class YourModelv2(nn.Module):\n",
    "  \"\"\"This is basically LeNet\"\"\"\n",
    "    def __init__(self):\n",
    "        super(YourModelv2, self).__init__()\n",
    "        self.conv1 = nn.Conv2d(3, 6, 5)\n",
    "        self.conv2 = nn.Conv2d(6, 16, 5)\n",
    "        self.fc1   = nn.Linear(44944, 32)\n",
    "        self.fc2   = nn.Linear(32, 32)\n",
    "        self.fc3   = nn.Linear(32, 10)\n",
    "\n",
    "    def forward(self, x):\n",
    "        out = F.relu(self.conv1(x))\n",
    "        out = F.max_pool2d(out, 2)\n",
    "        out = F.relu(self.conv2(out))\n",
    "        out = F.max_pool2d(out, 2)\n",
    "        out = out.view(out.size(0), -1)\n",
    "        out = F.relu(self.fc1(out))\n",
    "        out = F.relu(self.fc2(out))\n",
    "        out = self.fc3(out)\n",
    "        return out\n",
    "      \n",
    "model = YourModelv2()"
   ]
  },
  {
   "cell_type": "code",
   "execution_count": 0,
   "metadata": {
    "colab": {},
    "colab_type": "code",
    "id": "xwvxRkWQCIV7"
   },
   "outputs": [],
   "source": [
    "class YourModelv3(nn.Module):\n",
    "    def __init__(self):\n",
    "        super(YourModelv3, self).__init__()\n",
    "        self.layer1 = nn.Sequential(\n",
    "            nn.Conv2d(3, 3, kernel_size=5, stride=1, padding=2),\n",
    "            nn.ReLU(),\n",
    "            nn.MaxPool2d(kernel_size=2, stride=2))\n",
    "        self.layer2 = nn.Sequential(\n",
    "            nn.Conv2d(3, 64, kernel_size=5, stride=1, padding=2),\n",
    "            nn.ReLU(),\n",
    "            nn.MaxPool2d(kernel_size=2, stride=2))\n",
    "        self.layer3 = nn.Sequential(\n",
    "            nn.Conv2d(64, 32, kernel_size=5, stride=1, padding=2),\n",
    "            nn.ReLU(),\n",
    "            nn.MaxPool2d(kernel_size=2, stride=2))\n",
    "        self.layer4 = nn.Sequential(\n",
    "            nn.Conv2d(32, 32, kernel_size=5, stride=1, padding=2),\n",
    "            nn.ReLU(),\n",
    "            nn.MaxPool2d(kernel_size=2, stride=2))\n",
    "        self.drop_out = nn.Dropout()\n",
    "        self.fc1 = nn.Linear(6272, 1000)\n",
    "        self.fc2 = nn.Linear(1000, 10)\n",
    "    def forward(self, x):\n",
    "      out = self.layer1(x)\n",
    "      out = self.layer2(out)\n",
    "      out = self.layer3(out)\n",
    "      out = self.layer4(out)\n",
    "      out = out.reshape(out.size(0), -1)\n",
    "      out = self.drop_out(out)\n",
    "      out = self.fc1(out)\n",
    "      out = self.fc2(out)\n",
    "      return out\n",
    "    \n",
    "model = YourModelv3()"
   ]
  },
  {
   "cell_type": "code",
   "execution_count": 0,
   "metadata": {
    "colab": {},
    "colab_type": "code",
    "id": "ppJHB-z4Crxw"
   },
   "outputs": [],
   "source": [
    "class YourModelv4(nn.Module):\n",
    "    def __init__(self):\n",
    "        super(YourModelv4, self).__init__()\n",
    "        self.layer1 = nn.Sequential(\n",
    "            nn.Conv2d(3, 256, kernel_size=5, stride=1, padding=2),\n",
    "            nn.ReLU(),\n",
    "            nn.MaxPool2d(kernel_size=2, stride=2))\n",
    "        self.layer2 = nn.Sequential(\n",
    "            nn.Conv2d(256, 128, kernel_size=5, stride=1, padding=2),\n",
    "            nn.ReLU(),\n",
    "            nn.MaxPool2d(kernel_size=2, stride=2))\n",
    "        self.layer3 = nn.Sequential(\n",
    "            nn.Conv2d(128, 64, kernel_size=5, stride=1, padding=2),\n",
    "            nn.ReLU(),\n",
    "            nn.MaxPool2d(kernel_size=2, stride=2))\n",
    "        self.layer4 = nn.Sequential(\n",
    "            nn.Conv2d(64, 32, kernel_size=5, stride=1, padding=2),\n",
    "            nn.ReLU(),\n",
    "            nn.MaxPool2d(kernel_size=2, stride=2))\n",
    "        self.layer5 = nn.Sequential(\n",
    "            nn.Conv2d(32, 16, kernel_size=5, stride=1, padding=2),\n",
    "            nn.ReLU(),\n",
    "            nn.MaxPool2d(kernel_size=2, stride=2))\n",
    "        self.drop_out = nn.Dropout()\n",
    "        self.fc1 = nn.Linear(6272, 1000)\n",
    "        self.fc2 = nn.Linear(1000, 10)\n",
    "    def forward(self, x):\n",
    "      out = self.layer1(x)\n",
    "      out = self.layer2(out)\n",
    "      out = self.layer3(out)\n",
    "      out = self.layer4(out)\n",
    "      out = out.reshape(out.size(0), -1)\n",
    "      out = self.drop_out(out)\n",
    "      out = self.fc1(out)\n",
    "      out = self.fc2(out)\n",
    "      return out\n",
    "    \n",
    "model = YourModelv4()"
   ]
  },
  {
   "cell_type": "code",
   "execution_count": 0,
   "metadata": {
    "colab": {},
    "colab_type": "code",
    "id": "U2thf7JxyqMV"
   },
   "outputs": [],
   "source": [
    "batch_size = 32\n",
    "dataset_train = Food101Loader(path='/content/drive/My Drive/BLG561E/blg561/data', mode='train')\n",
    "dataset_test = Food101Loader(path='/content/drive/My Drive/BLG561E/blg561/data', mode='test')\n",
    "dataset_val = Food101Loader(path='/content/drive/My Drive/BLG561E/blg561/data', mode='val')\n",
    "\n",
    "train_loader = DataLoader(dataset=dataset_train, batch_size=batch_size, num_workers=4, shuffle=True)\n",
    "test_loader = DataLoader(dataset=dataset_test, batch_size=32, num_workers=4, shuffle=False)\n",
    "val_loader = DataLoader(dataset=dataset_val, batch_size=32, num_workers=4, shuffle=False)"
   ]
  },
  {
   "cell_type": "code",
   "execution_count": 0,
   "metadata": {
    "colab": {
     "base_uri": "https://localhost:8080/",
     "height": 293
    },
    "colab_type": "code",
    "executionInfo": {
     "elapsed": 5761,
     "status": "ok",
     "timestamp": 1543240237319,
     "user": {
      "displayName": "Ozgun A",
      "photoUrl": "",
      "userId": "01666726277915478621"
     },
     "user_tz": -180
    },
    "id": "3N8yNYs5O7iP",
    "outputId": "0c7ffc28-1583-4cec-8679-e9c4d0c974c6"
   },
   "outputs": [
    {
     "data": {
      "text/plain": [
       "YourModel(\n",
       "  (layer1): Sequential(\n",
       "    (0): Conv2d(3, 32, kernel_size=(5, 5), stride=(1, 1), padding=(2, 2))\n",
       "    (1): ReLU()\n",
       "    (2): MaxPool2d(kernel_size=2, stride=2, padding=0, dilation=1, ceil_mode=False)\n",
       "  )\n",
       "  (layer2): Sequential(\n",
       "    (0): Conv2d(32, 64, kernel_size=(5, 5), stride=(1, 1), padding=(2, 2))\n",
       "    (1): ReLU()\n",
       "    (2): MaxPool2d(kernel_size=2, stride=2, padding=0, dilation=1, ceil_mode=False)\n",
       "  )\n",
       "  (drop_out): Dropout(p=0.5)\n",
       "  (fc1): Linear(in_features=200704, out_features=1000, bias=True)\n",
       "  (fc2): Linear(in_features=1000, out_features=10, bias=True)\n",
       ")"
      ]
     },
     "execution_count": 12,
     "metadata": {
      "tags": []
     },
     "output_type": "execute_result"
    }
   ],
   "source": [
    "# torch.save(model.state_dict(), '/content/drive/My Drive/BLG561E/vgg16.ckpt')\n",
    "model = YourModel()\n",
    "model.load_state_dict(torch.load('/content/drive/My Drive/BLG561E/modelv1.ckpt'))\n",
    "model.cuda()"
   ]
  },
  {
   "cell_type": "code",
   "execution_count": 6,
   "metadata": {
    "colab": {
     "base_uri": "https://localhost:8080/",
     "height": 7198
    },
    "colab_type": "code",
    "executionInfo": {
     "elapsed": 813180,
     "status": "ok",
     "timestamp": 1543258264484,
     "user": {
      "displayName": "Ozgun A",
      "photoUrl": "",
      "userId": "01666726277915478621"
     },
     "user_tz": -180
    },
    "id": "O41jRbg72HQ2",
    "outputId": "fb224191-4676-49e0-e21b-3d59c56d4ef4"
   },
   "outputs": [
    {
     "name": "stdout",
     "output_type": "stream",
     "text": [
      "Epoch Number:  0\n",
      "Iter Loss: 2.3088340759277344  of  0 / 94 data\n",
      "Mean Loss: 2.3088340759277344  of  0 / 94 data\n",
      "Iter Loss: 2.27192759513855  of  10 / 94 data\n",
      "Iter Loss: 1.993098258972168  of  20 / 94 data\n",
      "Iter Loss: 2.2352051734924316  of  30 / 94 data\n",
      "Iter Loss: 1.8209706544876099  of  40 / 94 data\n",
      "Iter Loss: 1.9229083061218262  of  50 / 94 data\n",
      "Iter Loss: 1.8635780811309814  of  60 / 94 data\n",
      "Iter Loss: 1.8241018056869507  of  70 / 94 data\n",
      "Iter Loss: 1.7456718683242798  of  80 / 94 data\n",
      "Iter Loss: 1.6708096265792847  of  90 / 94 data\n",
      "Mean Loss: 1.941240171809773  of  90 / 94 data\n",
      "Epoch Number:  1\n",
      "Iter Loss: 2.3088340759277344  of  0 / 94 data\n",
      "Mean Loss: 1.9277623578121788  of  0 / 94 data\n",
      "Iter Loss: 2.27192759513855  of  10 / 94 data\n",
      "Iter Loss: 1.993098258972168  of  20 / 94 data\n",
      "Iter Loss: 2.2352051734924316  of  30 / 94 data\n",
      "Iter Loss: 1.8209706544876099  of  40 / 94 data\n",
      "Iter Loss: 1.9229083061218262  of  50 / 94 data\n",
      "Iter Loss: 1.8635780811309814  of  60 / 94 data\n",
      "Iter Loss: 1.8241018056869507  of  70 / 94 data\n",
      "Iter Loss: 1.7456718683242798  of  80 / 94 data\n",
      "Iter Loss: 1.6708096265792847  of  90 / 94 data\n",
      "Mean Loss: 1.7674450938766066  of  90 / 94 data\n",
      "Epoch Number:  2\n",
      "Iter Loss: 2.3088340759277344  of  0 / 94 data\n",
      "Mean Loss: 1.762175861489836  of  0 / 94 data\n",
      "Iter Loss: 2.27192759513855  of  10 / 94 data\n",
      "Iter Loss: 1.993098258972168  of  20 / 94 data\n",
      "Iter Loss: 2.2352051734924316  of  30 / 94 data\n",
      "Iter Loss: 1.8209706544876099  of  40 / 94 data\n",
      "Iter Loss: 1.9229083061218262  of  50 / 94 data\n",
      "Iter Loss: 1.8635780811309814  of  60 / 94 data\n",
      "Iter Loss: 1.8241018056869507  of  70 / 94 data\n",
      "Iter Loss: 1.7456718683242798  of  80 / 94 data\n",
      "Iter Loss: 1.6708096265792847  of  90 / 94 data\n",
      "Mean Loss: 1.625551129968363  of  90 / 94 data\n",
      "Epoch Number:  3\n",
      "Iter Loss: 2.3088340759277344  of  0 / 94 data\n",
      "Mean Loss: 1.6210570177425343  of  0 / 94 data\n",
      "Iter Loss: 2.27192759513855  of  10 / 94 data\n",
      "Iter Loss: 1.993098258972168  of  20 / 94 data\n",
      "Iter Loss: 2.2352051734924316  of  30 / 94 data\n",
      "Iter Loss: 1.8209706544876099  of  40 / 94 data\n",
      "Iter Loss: 1.9229083061218262  of  50 / 94 data\n",
      "Iter Loss: 1.8635780811309814  of  60 / 94 data\n",
      "Iter Loss: 1.8241018056869507  of  70 / 94 data\n",
      "Iter Loss: 1.7456718683242798  of  80 / 94 data\n",
      "Iter Loss: 1.6708096265792847  of  90 / 94 data\n",
      "Mean Loss: 1.547241004798112  of  90 / 94 data\n",
      "Epoch Number:  4\n",
      "Iter Loss: 2.3088340759277344  of  0 / 94 data\n",
      "Mean Loss: 1.5436022743306046  of  0 / 94 data\n",
      "Iter Loss: 2.27192759513855  of  10 / 94 data\n",
      "Iter Loss: 1.993098258972168  of  20 / 94 data\n",
      "Iter Loss: 2.2352051734924316  of  30 / 94 data\n",
      "Iter Loss: 1.8209706544876099  of  40 / 94 data\n",
      "Iter Loss: 1.9229083061218262  of  50 / 94 data\n",
      "Iter Loss: 1.8635780811309814  of  60 / 94 data\n",
      "Iter Loss: 1.8241018056869507  of  70 / 94 data\n",
      "Iter Loss: 1.7456718683242798  of  80 / 94 data\n",
      "Iter Loss: 1.6708096265792847  of  90 / 94 data\n",
      "Mean Loss: 1.4865712134179518  of  90 / 94 data\n",
      "Epoch Number:  5\n",
      "Iter Loss: 2.3088340759277344  of  0 / 94 data\n",
      "Mean Loss: 1.48442097606173  of  0 / 94 data\n",
      "Iter Loss: 2.27192759513855  of  10 / 94 data\n",
      "Iter Loss: 1.993098258972168  of  20 / 94 data\n",
      "Iter Loss: 2.2352051734924316  of  30 / 94 data\n",
      "Iter Loss: 1.8209706544876099  of  40 / 94 data\n",
      "Iter Loss: 1.9229083061218262  of  50 / 94 data\n",
      "Iter Loss: 1.8635780811309814  of  60 / 94 data\n",
      "Iter Loss: 1.8241018056869507  of  70 / 94 data\n",
      "Iter Loss: 1.7456718683242798  of  80 / 94 data\n",
      "Iter Loss: 1.6708096265792847  of  90 / 94 data\n",
      "Mean Loss: 1.4467698641639342  of  90 / 94 data\n",
      "Epoch Number:  6\n",
      "Iter Loss: 2.3088340759277344  of  0 / 94 data\n",
      "Mean Loss: 1.445751455821822  of  0 / 94 data\n",
      "Iter Loss: 2.27192759513855  of  10 / 94 data\n",
      "Iter Loss: 1.993098258972168  of  20 / 94 data\n",
      "Iter Loss: 2.2352051734924316  of  30 / 94 data\n",
      "Iter Loss: 1.8209706544876099  of  40 / 94 data\n",
      "Iter Loss: 1.9229083061218262  of  50 / 94 data\n",
      "Iter Loss: 1.8635780811309814  of  60 / 94 data\n",
      "Iter Loss: 1.8241018056869507  of  70 / 94 data\n",
      "Iter Loss: 1.7456718683242798  of  80 / 94 data\n",
      "Iter Loss: 1.6708096265792847  of  90 / 94 data\n",
      "Mean Loss: 1.4121740439465937  of  90 / 94 data\n",
      "Epoch Number:  7\n",
      "Iter Loss: 2.3088340759277344  of  0 / 94 data\n",
      "Mean Loss: 1.4111407452541345  of  0 / 94 data\n",
      "Iter Loss: 2.27192759513855  of  10 / 94 data\n",
      "Iter Loss: 1.993098258972168  of  20 / 94 data\n",
      "Iter Loss: 2.2352051734924316  of  30 / 94 data\n",
      "Iter Loss: 1.8209706544876099  of  40 / 94 data\n",
      "Iter Loss: 1.9229083061218262  of  50 / 94 data\n",
      "Iter Loss: 1.8635780811309814  of  60 / 94 data\n",
      "Iter Loss: 1.8241018056869507  of  70 / 94 data\n",
      "Iter Loss: 1.7456718683242798  of  80 / 94 data\n",
      "Iter Loss: 1.6708096265792847  of  90 / 94 data\n",
      "Mean Loss: 1.381427340259221  of  90 / 94 data\n",
      "Epoch Number:  8\n",
      "Iter Loss: 2.3088340759277344  of  0 / 94 data\n",
      "Mean Loss: 1.3799851969735397  of  0 / 94 data\n",
      "Iter Loss: 2.27192759513855  of  10 / 94 data\n",
      "Iter Loss: 1.993098258972168  of  20 / 94 data\n",
      "Iter Loss: 2.2352051734924316  of  30 / 94 data\n",
      "Iter Loss: 1.8209706544876099  of  40 / 94 data\n",
      "Iter Loss: 1.9229083061218262  of  50 / 94 data\n",
      "Iter Loss: 1.8635780811309814  of  60 / 94 data\n",
      "Iter Loss: 1.8241018056869507  of  70 / 94 data\n",
      "Iter Loss: 1.7456718683242798  of  80 / 94 data\n",
      "Iter Loss: 1.6708096265792847  of  90 / 94 data\n",
      "Mean Loss: 1.3551302937567589  of  90 / 94 data\n",
      "Epoch Number:  9\n",
      "Iter Loss: 2.3088340759277344  of  0 / 94 data\n",
      "Mean Loss: 1.354486596345057  of  0 / 94 data\n",
      "Iter Loss: 2.27192759513855  of  10 / 94 data\n",
      "Iter Loss: 1.993098258972168  of  20 / 94 data\n",
      "Iter Loss: 2.2352051734924316  of  30 / 94 data\n",
      "Iter Loss: 1.8209706544876099  of  40 / 94 data\n",
      "Iter Loss: 1.9229083061218262  of  50 / 94 data\n",
      "Iter Loss: 1.8635780811309814  of  60 / 94 data\n",
      "Iter Loss: 1.8241018056869507  of  70 / 94 data\n",
      "Iter Loss: 1.7456718683242798  of  80 / 94 data\n",
      "Iter Loss: 1.6708096265792847  of  90 / 94 data\n",
      "Mean Loss: 1.326393751095555  of  90 / 94 data\n",
      "Epoch Number:  10\n",
      "Iter Loss: 2.3088340759277344  of  0 / 94 data\n",
      "Mean Loss: 1.3255724322909883  of  0 / 94 data\n",
      "Iter Loss: 2.27192759513855  of  10 / 94 data\n",
      "Iter Loss: 1.993098258972168  of  20 / 94 data\n",
      "Iter Loss: 2.2352051734924316  of  30 / 94 data\n",
      "Iter Loss: 1.8209706544876099  of  40 / 94 data\n",
      "Iter Loss: 1.9229083061218262  of  50 / 94 data\n",
      "Iter Loss: 1.8635780811309814  of  60 / 94 data\n",
      "Iter Loss: 1.8241018056869507  of  70 / 94 data\n",
      "Iter Loss: 1.7456718683242798  of  80 / 94 data\n",
      "Iter Loss: 1.6708096265792847  of  90 / 94 data\n",
      "Mean Loss: 1.301605829385504  of  90 / 94 data\n",
      "Epoch Number:  11\n",
      "Iter Loss: 2.3088340759277344  of  0 / 94 data\n",
      "Mean Loss: 1.300177806414268  of  0 / 94 data\n",
      "Iter Loss: 2.27192759513855  of  10 / 94 data\n",
      "Iter Loss: 1.993098258972168  of  20 / 94 data\n",
      "Iter Loss: 2.2352051734924316  of  30 / 94 data\n",
      "Iter Loss: 1.8209706544876099  of  40 / 94 data\n",
      "Iter Loss: 1.9229083061218262  of  50 / 94 data\n",
      "Iter Loss: 1.8635780811309814  of  60 / 94 data\n",
      "Iter Loss: 1.8241018056869507  of  70 / 94 data\n",
      "Iter Loss: 1.7456718683242798  of  80 / 94 data\n",
      "Iter Loss: 1.6708096265792847  of  90 / 94 data\n",
      "Mean Loss: 1.2773579080899558  of  90 / 94 data\n",
      "Epoch Number:  12\n",
      "Iter Loss: 2.3088340759277344  of  0 / 94 data\n",
      "Mean Loss: 1.2759539333986327  of  0 / 94 data\n",
      "Iter Loss: 2.27192759513855  of  10 / 94 data\n",
      "Iter Loss: 1.993098258972168  of  20 / 94 data\n",
      "Iter Loss: 2.2352051734924316  of  30 / 94 data\n",
      "Iter Loss: 1.8209706544876099  of  40 / 94 data\n",
      "Iter Loss: 1.9229083061218262  of  50 / 94 data\n",
      "Iter Loss: 1.8635780811309814  of  60 / 94 data\n",
      "Iter Loss: 1.8241018056869507  of  70 / 94 data\n",
      "Iter Loss: 1.7456718683242798  of  80 / 94 data\n",
      "Iter Loss: 1.6708096265792847  of  90 / 94 data\n",
      "Mean Loss: 1.2559567077224425  of  90 / 94 data\n",
      "Epoch Number:  13\n",
      "Iter Loss: 2.3088340759277344  of  0 / 94 data\n",
      "Mean Loss: 1.2548856366294774  of  0 / 94 data\n",
      "Iter Loss: 2.27192759513855  of  10 / 94 data\n",
      "Iter Loss: 1.993098258972168  of  20 / 94 data\n",
      "Iter Loss: 2.2352051734924316  of  30 / 94 data\n",
      "Iter Loss: 1.8209706544876099  of  40 / 94 data\n",
      "Iter Loss: 1.9229083061218262  of  50 / 94 data\n",
      "Iter Loss: 1.8635780811309814  of  60 / 94 data\n",
      "Iter Loss: 1.8241018056869507  of  70 / 94 data\n",
      "Iter Loss: 1.7456718683242798  of  80 / 94 data\n",
      "Iter Loss: 1.6708096265792847  of  90 / 94 data\n",
      "Mean Loss: 1.2351593444207563  of  90 / 94 data\n",
      "Epoch Number:  14\n",
      "Iter Loss: 2.3088340759277344  of  0 / 94 data\n",
      "Mean Loss: 1.234527713300246  of  0 / 94 data\n",
      "Iter Loss: 2.27192759513855  of  10 / 94 data\n",
      "Iter Loss: 1.993098258972168  of  20 / 94 data\n",
      "Iter Loss: 2.2352051734924316  of  30 / 94 data\n",
      "Iter Loss: 1.8209706544876099  of  40 / 94 data\n",
      "Iter Loss: 1.9229083061218262  of  50 / 94 data\n",
      "Iter Loss: 1.8635780811309814  of  60 / 94 data\n",
      "Iter Loss: 1.8241018056869507  of  70 / 94 data\n",
      "Iter Loss: 1.7456718683242798  of  80 / 94 data\n",
      "Iter Loss: 1.6708096265792847  of  90 / 94 data\n",
      "Mean Loss: 1.214884229348582  of  90 / 94 data\n",
      "Epoch Number:  15\n",
      "Iter Loss: 2.3088340759277344  of  0 / 94 data\n",
      "Mean Loss: 1.2141488202491777  of  0 / 94 data\n",
      "Iter Loss: 2.27192759513855  of  10 / 94 data\n",
      "Iter Loss: 1.993098258972168  of  20 / 94 data\n",
      "Iter Loss: 2.2352051734924316  of  30 / 94 data\n",
      "Iter Loss: 1.8209706544876099  of  40 / 94 data\n",
      "Iter Loss: 1.9229083061218262  of  50 / 94 data\n",
      "Iter Loss: 1.8635780811309814  of  60 / 94 data\n",
      "Iter Loss: 1.8241018056869507  of  70 / 94 data\n",
      "Iter Loss: 1.7456718683242798  of  80 / 94 data\n",
      "Iter Loss: 1.6708096265792847  of  90 / 94 data\n",
      "Mean Loss: 1.1947918839251337  of  90 / 94 data\n",
      "Epoch Number:  16\n",
      "Iter Loss: 2.3088340759277344  of  0 / 94 data\n",
      "Mean Loss: 1.194477168468146  of  0 / 94 data\n",
      "Iter Loss: 2.27192759513855  of  10 / 94 data\n",
      "Iter Loss: 1.993098258972168  of  20 / 94 data\n",
      "Iter Loss: 2.2352051734924316  of  30 / 94 data\n",
      "Iter Loss: 1.8209706544876099  of  40 / 94 data\n",
      "Iter Loss: 1.9229083061218262  of  50 / 94 data\n",
      "Iter Loss: 1.8635780811309814  of  60 / 94 data\n",
      "Iter Loss: 1.8241018056869507  of  70 / 94 data\n",
      "Iter Loss: 1.7456718683242798  of  80 / 94 data\n",
      "Iter Loss: 1.6708096265792847  of  90 / 94 data\n",
      "Mean Loss: 1.175481560723535  of  90 / 94 data\n",
      "Epoch Number:  17\n",
      "Iter Loss: 2.3088340759277344  of  0 / 94 data\n",
      "Mean Loss: 1.174601819009763  of  0 / 94 data\n",
      "Iter Loss: 2.27192759513855  of  10 / 94 data\n",
      "Iter Loss: 1.993098258972168  of  20 / 94 data\n",
      "Iter Loss: 2.2352051734924316  of  30 / 94 data\n",
      "Iter Loss: 1.8209706544876099  of  40 / 94 data\n",
      "Iter Loss: 1.9229083061218262  of  50 / 94 data\n",
      "Iter Loss: 1.8635780811309814  of  60 / 94 data\n",
      "Iter Loss: 1.8241018056869507  of  70 / 94 data\n",
      "Iter Loss: 1.7456718683242798  of  80 / 94 data\n",
      "Iter Loss: 1.6708096265792847  of  90 / 94 data\n",
      "Mean Loss: 1.1563918572194904  of  90 / 94 data\n",
      "Epoch Number:  18\n",
      "Iter Loss: 2.3088340759277344  of  0 / 94 data\n",
      "Mean Loss: 1.1556655393503013  of  0 / 94 data\n",
      "Iter Loss: 2.27192759513855  of  10 / 94 data\n",
      "Iter Loss: 1.993098258972168  of  20 / 94 data\n",
      "Iter Loss: 2.2352051734924316  of  30 / 94 data\n",
      "Iter Loss: 1.8209706544876099  of  40 / 94 data\n",
      "Iter Loss: 1.9229083061218262  of  50 / 94 data\n",
      "Iter Loss: 1.8635780811309814  of  60 / 94 data\n",
      "Iter Loss: 1.8241018056869507  of  70 / 94 data\n",
      "Iter Loss: 1.7456718683242798  of  80 / 94 data\n",
      "Iter Loss: 1.6708096265792847  of  90 / 94 data\n",
      "Mean Loss: 1.1387315285520077  of  90 / 94 data\n",
      "Epoch Number:  19\n",
      "Iter Loss: 2.3088340759277344  of  0 / 94 data\n",
      "Mean Loss: 1.138199387479909  of  0 / 94 data\n",
      "Iter Loss: 2.27192759513855  of  10 / 94 data\n",
      "Iter Loss: 1.993098258972168  of  20 / 94 data\n",
      "Iter Loss: 2.2352051734924316  of  30 / 94 data\n",
      "Iter Loss: 1.8209706544876099  of  40 / 94 data\n",
      "Iter Loss: 1.9229083061218262  of  50 / 94 data\n",
      "Iter Loss: 1.8635780811309814  of  60 / 94 data\n",
      "Iter Loss: 1.8241018056869507  of  70 / 94 data\n",
      "Iter Loss: 1.7456718683242798  of  80 / 94 data\n",
      "Iter Loss: 1.6708096265792847  of  90 / 94 data\n",
      "Mean Loss: 1.124197493796026  of  90 / 94 data\n",
      "Epoch Number:  20\n",
      "Iter Loss: 2.3088340759277344  of  0 / 94 data\n",
      "Mean Loss: 1.1235946788868962  of  0 / 94 data\n",
      "Iter Loss: 2.27192759513855  of  10 / 94 data\n",
      "Iter Loss: 1.993098258972168  of  20 / 94 data\n",
      "Iter Loss: 2.2352051734924316  of  30 / 94 data\n",
      "Iter Loss: 1.8209706544876099  of  40 / 94 data\n",
      "Iter Loss: 1.9229083061218262  of  50 / 94 data\n",
      "Iter Loss: 1.8635780811309814  of  60 / 94 data\n",
      "Iter Loss: 1.8241018056869507  of  70 / 94 data\n",
      "Iter Loss: 1.7456718683242798  of  80 / 94 data\n",
      "Iter Loss: 1.6708096265792847  of  90 / 94 data\n",
      "Mean Loss: 1.1076307315502234  of  90 / 94 data\n",
      "Epoch Number:  21\n",
      "Iter Loss: 2.3088340759277344  of  0 / 94 data\n",
      "Mean Loss: 1.1072469451155844  of  0 / 94 data\n",
      "Iter Loss: 2.27192759513855  of  10 / 94 data\n",
      "Iter Loss: 1.993098258972168  of  20 / 94 data\n",
      "Iter Loss: 2.2352051734924316  of  30 / 94 data\n",
      "Iter Loss: 1.8209706544876099  of  40 / 94 data\n",
      "Iter Loss: 1.9229083061218262  of  50 / 94 data\n",
      "Iter Loss: 1.8635780811309814  of  60 / 94 data\n",
      "Iter Loss: 1.8241018056869507  of  70 / 94 data\n",
      "Iter Loss: 1.7456718683242798  of  80 / 94 data\n",
      "Iter Loss: 1.6708096265792847  of  90 / 94 data\n",
      "Mean Loss: 1.0916177783693586  of  90 / 94 data\n",
      "Epoch Number:  22\n",
      "Iter Loss: 2.3088340759277344  of  0 / 94 data\n",
      "Mean Loss: 1.090842598155249  of  0 / 94 data\n",
      "Iter Loss: 2.27192759513855  of  10 / 94 data\n",
      "Iter Loss: 1.993098258972168  of  20 / 94 data\n",
      "Iter Loss: 2.2352051734924316  of  30 / 94 data\n",
      "Iter Loss: 1.8209706544876099  of  40 / 94 data\n",
      "Iter Loss: 1.9229083061218262  of  50 / 94 data\n",
      "Iter Loss: 1.8635780811309814  of  60 / 94 data\n",
      "Iter Loss: 1.8241018056869507  of  70 / 94 data\n",
      "Iter Loss: 1.7456718683242798  of  80 / 94 data\n",
      "Iter Loss: 1.6708096265792847  of  90 / 94 data\n",
      "Mean Loss: 1.0752062766763997  of  90 / 94 data\n",
      "Epoch Number:  23\n",
      "Iter Loss: 2.3088340759277344  of  0 / 94 data\n",
      "Mean Loss: 1.0742780080808294  of  0 / 94 data\n",
      "Iter Loss: 2.27192759513855  of  10 / 94 data\n",
      "Iter Loss: 1.993098258972168  of  20 / 94 data\n",
      "Iter Loss: 2.2352051734924316  of  30 / 94 data\n",
      "Iter Loss: 1.8209706544876099  of  40 / 94 data\n",
      "Iter Loss: 1.9229083061218262  of  50 / 94 data\n",
      "Iter Loss: 1.8635780811309814  of  60 / 94 data\n",
      "Iter Loss: 1.8241018056869507  of  70 / 94 data\n",
      "Iter Loss: 1.7456718683242798  of  80 / 94 data\n",
      "Iter Loss: 1.6708096265792847  of  90 / 94 data\n",
      "Mean Loss: 1.0589130097397474  of  90 / 94 data\n",
      "Epoch Number:  24\n",
      "Iter Loss: 2.3088340759277344  of  0 / 94 data\n",
      "Mean Loss: 1.0583890659200654  of  0 / 94 data\n",
      "Iter Loss: 2.27192759513855  of  10 / 94 data\n",
      "Iter Loss: 1.993098258972168  of  20 / 94 data\n",
      "Iter Loss: 2.2352051734924316  of  30 / 94 data\n",
      "Iter Loss: 1.8209706544876099  of  40 / 94 data\n",
      "Iter Loss: 1.9229083061218262  of  50 / 94 data\n",
      "Iter Loss: 1.8635780811309814  of  60 / 94 data\n",
      "Iter Loss: 1.8241018056869507  of  70 / 94 data\n",
      "Iter Loss: 1.7456718683242798  of  80 / 94 data\n",
      "Iter Loss: 1.6708096265792847  of  90 / 94 data\n",
      "Mean Loss: 1.0440165284444893  of  90 / 94 data\n",
      "Epoch Number:  25\n",
      "Iter Loss: 2.3088340759277344  of  0 / 94 data\n",
      "Mean Loss: 1.0430958671348747  of  0 / 94 data\n",
      "Iter Loss: 2.27192759513855  of  10 / 94 data\n",
      "Iter Loss: 1.993098258972168  of  20 / 94 data\n",
      "Iter Loss: 2.2352051734924316  of  30 / 94 data\n",
      "Iter Loss: 1.8209706544876099  of  40 / 94 data\n",
      "Iter Loss: 1.9229083061218262  of  50 / 94 data\n",
      "Iter Loss: 1.8635780811309814  of  60 / 94 data\n",
      "Iter Loss: 1.8241018056869507  of  70 / 94 data\n",
      "Iter Loss: 1.7456718683242798  of  80 / 94 data\n",
      "Iter Loss: 1.6708096265792847  of  90 / 94 data\n",
      "Mean Loss: 1.0277809665028261  of  90 / 94 data\n",
      "Epoch Number:  26\n",
      "Iter Loss: 2.3088340759277344  of  0 / 94 data\n",
      "Mean Loss: 1.02716499244021  of  0 / 94 data\n",
      "Iter Loss: 2.27192759513855  of  10 / 94 data\n",
      "Iter Loss: 1.993098258972168  of  20 / 94 data\n",
      "Iter Loss: 2.2352051734924316  of  30 / 94 data\n",
      "Iter Loss: 1.8209706544876099  of  40 / 94 data\n",
      "Iter Loss: 1.9229083061218262  of  50 / 94 data\n",
      "Iter Loss: 1.8635780811309814  of  60 / 94 data\n",
      "Iter Loss: 1.8241018056869507  of  70 / 94 data\n",
      "Iter Loss: 1.7456718683242798  of  80 / 94 data\n",
      "Iter Loss: 1.6708096265792847  of  90 / 94 data\n",
      "Mean Loss: 1.0136959252155273  of  90 / 94 data\n",
      "Epoch Number:  27\n",
      "Iter Loss: 2.3088340759277344  of  0 / 94 data\n",
      "Mean Loss: 1.0131718277954689  of  0 / 94 data\n",
      "Iter Loss: 2.27192759513855  of  10 / 94 data\n",
      "Iter Loss: 1.993098258972168  of  20 / 94 data\n",
      "Iter Loss: 2.2352051734924316  of  30 / 94 data\n",
      "Iter Loss: 1.8209706544876099  of  40 / 94 data\n",
      "Iter Loss: 1.9229083061218262  of  50 / 94 data\n",
      "Iter Loss: 1.8635780811309814  of  60 / 94 data\n",
      "Iter Loss: 1.8241018056869507  of  70 / 94 data\n",
      "Iter Loss: 1.7456718683242798  of  80 / 94 data\n",
      "Iter Loss: 1.6708096265792847  of  90 / 94 data\n",
      "Mean Loss: 1.0011810314841214  of  90 / 94 data\n",
      "Epoch Number:  28\n",
      "Iter Loss: 2.3088340759277344  of  0 / 94 data\n",
      "Mean Loss: 1.000587369931138  of  0 / 94 data\n",
      "Iter Loss: 2.27192759513855  of  10 / 94 data\n",
      "Iter Loss: 1.993098258972168  of  20 / 94 data\n",
      "Iter Loss: 2.2352051734924316  of  30 / 94 data\n",
      "Iter Loss: 1.8209706544876099  of  40 / 94 data\n",
      "Iter Loss: 1.9229083061218262  of  50 / 94 data\n",
      "Iter Loss: 1.8635780811309814  of  60 / 94 data\n",
      "Iter Loss: 1.8241018056869507  of  70 / 94 data\n",
      "Iter Loss: 1.7456718683242798  of  80 / 94 data\n",
      "Iter Loss: 1.6708096265792847  of  90 / 94 data\n",
      "Mean Loss: 0.9895739406949231  of  90 / 94 data\n",
      "Epoch Number:  29\n",
      "Iter Loss: 2.3088340759277344  of  0 / 94 data\n",
      "Mean Loss: 0.9889686593521546  of  0 / 94 data\n",
      "Iter Loss: 2.27192759513855  of  10 / 94 data\n",
      "Iter Loss: 1.993098258972168  of  20 / 94 data\n",
      "Iter Loss: 2.2352051734924316  of  30 / 94 data\n",
      "Iter Loss: 1.8209706544876099  of  40 / 94 data\n",
      "Iter Loss: 1.9229083061218262  of  50 / 94 data\n",
      "Iter Loss: 1.8635780811309814  of  60 / 94 data\n",
      "Iter Loss: 1.8241018056869507  of  70 / 94 data\n",
      "Iter Loss: 1.7456718683242798  of  80 / 94 data\n",
      "Iter Loss: 1.6708096265792847  of  90 / 94 data\n",
      "Mean Loss: 0.977927792694368  of  90 / 94 data\n",
      "30 EPOCHS COMPLETE. MODEL TRAINED.\n"
     ]
    }
   ],
   "source": [
    "###  Here are some training parameters\n",
    "batch_size = 32\n",
    "learning_rate = 1e-3\n",
    "regularization_rate = 0\n",
    "n_epochs = 30\n",
    "use_gpu = False\n",
    "test_every = 3\n",
    "print_every  = 1\n",
    "steps = 0\n",
    "run_loss = 0\n",
    "###\n",
    "\n",
    "model = model\n",
    "# You may want to tweak them too.\n",
    "optimizer = optim.SGD(model.parameters(), lr=learning_rate, momentum = 0.99, weight_decay = 1e-5)\n",
    "criteria = nn.CrossEntropyLoss()\n",
    "# It modifies the behaviour of modules like BatchNorm and Dropout for training purposes\n",
    "model.cuda()\n",
    "criteria.cuda()\n",
    "\n",
    "model.train()\n",
    "\n",
    "# Some example diagnostics.\n",
    "\n",
    "# Loss for every iteration\n",
    "losses_iter_train = []\n",
    "\n",
    "# Loss for epoch (averaging the iteration-wise loss)\n",
    "losses_epoch_train = []\n",
    "accuracy_iter_train = []\n",
    "\n",
    "# Validation part\n",
    "losses_iter_val = []\n",
    "losses_epoch_val = []\n",
    "accuracy_iter_val = []\n",
    "\n",
    "# Write the training loop\n",
    "# https://pytorch.org/tutorials/beginner/blitz/cifar10_tutorial.html#train-the-network\n",
    "\n",
    "for epoch in range(n_epochs):\n",
    "    print('Epoch Number: ', epoch)\n",
    "    steps += 1\n",
    "\n",
    "    for ix, data in enumerate(train_loader):\n",
    "        \n",
    "        # Get the inputs\n",
    "        img, label = data    \n",
    "        img = img.cuda()\n",
    "        label = label.cuda()\n",
    "        \n",
    "        # Forward Pass\n",
    "        outputs = model.forward(img)\n",
    "        loss = criteria(outputs, label)\n",
    "        \n",
    "        # Zero the gradients\n",
    "        optimizer.zero_grad()\n",
    "        \n",
    "        # Calculate gradients for backward pass\n",
    "        loss.backward()\n",
    "        \n",
    "        # Optimize\n",
    "        optimizer.step()\n",
    "\n",
    "        # Train Loss\n",
    "        losses_iter_train.append(loss.item())\n",
    "        losses_epoch_train = np.mean(losses_iter_train)\n",
    "        \n",
    "        # Train Accuracy\n",
    "        ps = torch.exp(outputs).data\n",
    "        equality = (label.data == ps.max(1)[1])\n",
    "        accuracy_iter_train.append(equality.type_as(torch.FloatTensor()).mean())\n",
    "        if ix % 10 == 0:\n",
    "          print('Iter Loss:', losses_iter_train[ix], ' of ', ix, '/',len(train_loader), 'data')          \n",
    "        if ix % 90 == 0:\n",
    "          print('Mean Loss:', losses_epoch_train, ' of ', ix, '/',len(train_loader), 'data')\n",
    "\n",
    "\n",
    "    if steps % test_every == 0:\n",
    "\n",
    "      model.eval()\n",
    "\n",
    "      for img, label in iter(val_loader):\n",
    "        img, label = Variable(img), Variable(label)\n",
    "        img = img.cuda()\n",
    "        label = label.cuda()\n",
    "\n",
    "        with torch.no_grad():\n",
    "          outputs = model.forward(img)\n",
    "          # Validation Loss\n",
    "          losses_iter_val.append(criteria(outputs, label).data.item())\n",
    "          losses_epoch_val = np.mean(losses_iter_val)\n",
    "          # Validation Accuracy\n",
    "          ps = torch.exp(outputs).data\n",
    "          equality = (label.data == ps.max(1)[1])\n",
    "          accuracy_iter_val.append(equality.type_as(torch.FloatTensor()).mean())\n",
    "        #print(\"Epoch: {}, Validation Loss: {}, Validation Accuracy: {}\".format(epoch, loss, val_acc))\n",
    "      '''print(\"Epoch: {}/{}.. \".format(epoch+1, n_epochs),\n",
    "       \"Training Loss: {:.3f}.. \".format(losses_epoch_train),\n",
    "        \"Val Loss: {:.3f}.. \".format(losses_epoch_val),\n",
    "        \"Val Accuracy: {:.3f}\".format(accuracy_iter_val[]))'''\n",
    "\n",
    "      model.train()\n",
    "            \n",
    "#Save_Path = '../Colab Notebooks'\n",
    "#Save_Name = 'resnet18.npz'\n",
    "#np.savez_compressed(os.path.join(Save_Path, Save_Name), val_losses = losses_epoch_val, val_accs = accuracy_iter_val, train_losses = accuracy_iter_train, train_accs = accuracy_iter_train)\n",
    "\n",
    "torch.save(model.state_dict(), '/content/drive/My Drive/BLG561E/modelv4.ckpt')\n"
   ]
  },
  {
   "cell_type": "code",
   "execution_count": 0,
   "metadata": {
    "colab": {},
    "colab_type": "code",
    "id": "3OrrfOdIGHIY"
   },
   "outputs": [],
   "source": [
    "#94#\n",
    "np.savez_compressed(\"/content/drive/My Drive/BLG561E/modelv4.npz\", val_losses = losses_epoch_val, val_accs = accuracy_iter_val, train_losses = losses_iter_train, train_accs = accuracy_iter_train)\n"
   ]
  },
  {
   "cell_type": "markdown",
   "metadata": {
    "colab_type": "text",
    "id": "-jfh_MAqyqMc"
   },
   "source": [
    "** Finetune/Train the loaded/designed model here:**\n",
    "\n",
    "Don't forget to include appropriate regularizations.\n",
    "Choose appropriate set of hyperparameters such as Learning Rate etc.\n",
    "\n",
    "You may insert new cells."
   ]
  },
  {
   "cell_type": "markdown",
   "metadata": {
    "colab_type": "text",
    "id": "8E0LOfGdyqMj"
   },
   "source": [
    "### Measure the performance against validation set\n",
    "Complete the code"
   ]
  },
  {
   "cell_type": "code",
   "execution_count": 8,
   "metadata": {
    "colab": {
     "base_uri": "https://localhost:8080/",
     "height": 35
    },
    "colab_type": "code",
    "executionInfo": {
     "elapsed": 12063,
     "status": "ok",
     "timestamp": 1543258512314,
     "user": {
      "displayName": "Ozgun A",
      "photoUrl": "",
      "userId": "01666726277915478621"
     },
     "user_tz": -180
    },
    "id": "RAx2LRU1PqXx",
    "outputId": "4d1de31c-a7b3-4224-ae98-b42edfb015d4"
   },
   "outputs": [
    {
     "name": "stdout",
     "output_type": "stream",
     "text": [
      "Test Accuracy of the model on the 10000 test images: 54.8 %\n"
     ]
    }
   ],
   "source": [
    "model.eval()\n",
    "\n",
    "with torch.no_grad():\n",
    "   correct = 0\n",
    "   total = 0\n",
    "   for img, label in iter(test_loader):\n",
    "       img, label = Variable(img), Variable(label)\n",
    "       img = img.cuda()\n",
    "       label = label.cuda()\n",
    "       outputs = model(img)\n",
    "       _, predicted = torch.max(outputs.data, 1)\n",
    "       total += label.size(0)\n",
    "       correct += (predicted == label).sum().item()\n",
    "\n",
    "   print('Test Accuracy of the model on the 10000 test images: {} %'.format(100 * correct / total))"
   ]
  },
  {
   "cell_type": "markdown",
   "metadata": {
    "colab_type": "text",
    "id": "eMPvdNkTyqMw"
   },
   "source": [
    "** Run diagnostics for each model (VGG16, Resnet etc). Avoid overfitting and underfitting as much as possible.\n",
    "We expect you to get at least 75% Test Accuracy**"
   ]
  },
  {
   "cell_type": "code",
   "execution_count": 0,
   "metadata": {
    "colab": {},
    "colab_type": "code",
    "id": "jWf94Qa4m2hZ"
   },
   "outputs": [],
   "source": [
    "# Load VGG16 from Drive\n",
    "vgg_16 = np.load(\"/content/drive/My Drive/BLG561E/vgg16_1.npz\")\n",
    "train_losses_vgg16 = vgg_16[\"train_losses\"]\n",
    "losses_epoch_vgg16 = vgg_16[\"val_losses\"]\n",
    "\n",
    "train_losses_mean_vgg16 = []\n",
    "for i in range(int(len(train_losses_vgg16)/94)):\n",
    "  train_losses_mean_vgg16.append(np.mean(train_losses_vgg16[i*94:(i+1)*94]))"
   ]
  },
  {
   "cell_type": "markdown",
   "metadata": {
    "colab_type": "text",
    "id": "fqLc9Zg9yqMy"
   },
   "source": [
    "** Plot the training, validation, and test losses versus number of iterations or epochs for VGG16 on the same plot**"
   ]
  },
  {
   "cell_type": "code",
   "execution_count": 28,
   "metadata": {
    "colab": {
     "base_uri": "https://localhost:8080/",
     "height": 312
    },
    "colab_type": "code",
    "executionInfo": {
     "elapsed": 627,
     "status": "ok",
     "timestamp": 1543263688774,
     "user": {
      "displayName": "Ozgun A",
      "photoUrl": "",
      "userId": "01666726277915478621"
     },
     "user_tz": -180
    },
    "id": "d_qBMaHVrALc",
    "outputId": "0d79dd07-4cb0-48ed-aaba-1b2b3a938708"
   },
   "outputs": [
    {
     "data": {
      "image/png": "[encoded data removed]",
      "text/plain": [
       "<matplotlib.figure.Figure at 0x7f5ff0487240>"
      ]
     },
     "metadata": {
      "tags": []
     },
     "output_type": "display_data"
    },
    {
     "name": "stdout",
     "output_type": "stream",
     "text": [
      "VGG16 Validation Losses [0.6205814981714208, 0.623522696976966, 0.5821454813505741, 0.5135625749826431, 0.5015165168554225, 0.45294412875429113]\n"
     ]
    }
   ],
   "source": [
    "fig = plt.figure()\n",
    "ax = plt.subplot(111)\n",
    "ax.plot(range(len(train_losses_mean_vgg16)), train_losses_mean_vgg16, label='Train Loss')\n",
    "ax.legend()\n",
    "\n",
    "plt.xlabel('Epochs')\n",
    "plt.ylabel('Loss')\n",
    "plt.title('VGG16 Train Losses')\n",
    "plt.grid(True)\n",
    "plt.show()\n"
   ]
  },
  {
   "cell_type": "code",
   "execution_count": 29,
   "metadata": {
    "colab": {
     "base_uri": "https://localhost:8080/",
     "height": 35
    },
    "colab_type": "code",
    "executionInfo": {
     "elapsed": 598,
     "status": "ok",
     "timestamp": 1543263785139,
     "user": {
      "displayName": "Ozgun A",
      "photoUrl": "",
      "userId": "01666726277915478621"
     },
     "user_tz": -180
    },
    "id": "uDlDNozkr-a8",
    "outputId": "781cbcc4-9576-4e26-8518-49a994ca10ef"
   },
   "outputs": [
    {
     "name": "stdout",
     "output_type": "stream",
     "text": [
      "Validation loss for VGG16 is:  0.7964918832294643\n"
     ]
    }
   ],
   "source": [
    "print(\"Validation loss for VGG16 is: \", losses_epoch_vgg16)"
   ]
  },
  {
   "cell_type": "markdown",
   "metadata": {
    "colab_type": "text",
    "id": "PtuiwY5ayqM8"
   },
   "source": [
    "** Plot the training, validation, and test losses versus number of iterations or epochs for ResNet on the same plot**"
   ]
  },
  {
   "cell_type": "code",
   "execution_count": 30,
   "metadata": {
    "colab": {
     "base_uri": "https://localhost:8080/",
     "height": 90
    },
    "colab_type": "code",
    "executionInfo": {
     "elapsed": 674,
     "status": "ok",
     "timestamp": 1543263849158,
     "user": {
      "displayName": "Ozgun A",
      "photoUrl": "",
      "userId": "01666726277915478621"
     },
     "user_tz": -180
    },
    "id": "7tmv2ebyyqM-",
    "outputId": "b3ab7af1-3230-4611-c0e7-b8026fdf8a80"
   },
   "outputs": [
    {
     "name": "stderr",
     "output_type": "stream",
     "text": [
      "/usr/local/lib/python3.6/dist-packages/numpy/core/fromnumeric.py:2957: RuntimeWarning: Mean of empty slice.\n",
      "  out=out, **kwargs)\n",
      "/usr/local/lib/python3.6/dist-packages/numpy/core/_methods.py:80: RuntimeWarning: invalid value encountered in double_scalars\n",
      "  ret = ret.dtype.type(ret / rcount)\n"
     ]
    }
   ],
   "source": [
    "resnet_18 = np.load(\"/content/drive/My Drive/BLG561E/resnet18_1.npz\")\n",
    "train_losses_res18 = resnet_18[\"train_losses\"]\n",
    "losses_epoch_res18 = resnet_18[\"val_losses\"]\n",
    "\n",
    "train_losses_mean_res18 = []\n",
    "for i in range(int(len(train_losses_res18)/94)):\n",
    "  train_losses_mean_res18.append(np.mean(train_losses_vgg16[i*94:(i+1)*94]))"
   ]
  },
  {
   "cell_type": "code",
   "execution_count": 33,
   "metadata": {
    "colab": {
     "base_uri": "https://localhost:8080/",
     "height": 294
    },
    "colab_type": "code",
    "executionInfo": {
     "elapsed": 675,
     "status": "ok",
     "timestamp": 1543263958971,
     "user": {
      "displayName": "Ozgun A",
      "photoUrl": "",
      "userId": "01666726277915478621"
     },
     "user_tz": -180
    },
    "id": "XgfGn3nrsb_E",
    "outputId": "3c46f3c7-12f6-48e2-f4db-408a63f1dab3"
   },
   "outputs": [
    {
     "data": {
      "image/png": "[encoded data removed]",
      "text/plain": [
       "<matplotlib.figure.Figure at 0x7f5ff0936860>"
      ]
     },
     "metadata": {
      "tags": []
     },
     "output_type": "display_data"
    }
   ],
   "source": [
    "fig = plt.figure()\n",
    "ax = plt.subplot(111)\n",
    "ax.plot(range(len(train_losses_mean_res18)), train_losses_mean_res18, label='Train Loss')\n",
    "ax.legend()\n",
    "\n",
    "plt.xlabel('Epochs')\n",
    "plt.ylabel('Loss')\n",
    "plt.title('Resnet18 Train Losses')\n",
    "plt.grid(True)\n",
    "plt.show()\n"
   ]
  },
  {
   "cell_type": "code",
   "execution_count": 32,
   "metadata": {
    "colab": {
     "base_uri": "https://localhost:8080/",
     "height": 35
    },
    "colab_type": "code",
    "executionInfo": {
     "elapsed": 548,
     "status": "ok",
     "timestamp": 1543263909404,
     "user": {
      "displayName": "Ozgun A",
      "photoUrl": "",
      "userId": "01666726277915478621"
     },
     "user_tz": -180
    },
    "id": "aCx80E-uskkT",
    "outputId": "70a1db47-d9e2-41a1-e7fa-f5da3d726a07"
   },
   "outputs": [
    {
     "name": "stdout",
     "output_type": "stream",
     "text": [
      "Validation loss for Resnest18 is:  0.7886888228356839\n"
     ]
    }
   ],
   "source": [
    "print(\"Validation loss for Resnest18 is: \", losses_epoch_res18)"
   ]
  },
  {
   "cell_type": "markdown",
   "metadata": {
    "colab_type": "text",
    "id": "Wh6AM4tAyqNB"
   },
   "source": [
    "** Plot the training, validation, and test losses versus number of iterations or epochs for Inception on the same plot**"
   ]
  },
  {
   "cell_type": "code",
   "execution_count": 0,
   "metadata": {
    "colab": {},
    "colab_type": "code",
    "id": "xHNdgxphyqNF"
   },
   "outputs": [],
   "source": []
  },
  {
   "cell_type": "markdown",
   "metadata": {
    "colab_type": "text",
    "id": "cXEwshTZyqNM"
   },
   "source": [
    "** Rather than using pretrained weights, first, initialize the weights by using small gaussian with zero mean and unit variance. Secondly, use the Xavier (Glorot) strategy to initialize the weights. Finally, discuss about the differences by comparing number of the epochs required to reach same testing accuracy, loss curves etc.**\n",
    "\n",
    "For more information about Xavier initialization, check out the following link:\n",
    "\n",
    "X. Glorot, Y. Bengio, 2010. Understanding the difficulty of training deep feedforward neural networks:  http://proceedings.mlr.press/v9/glorot10a/glorot10a.pdf"
   ]
  },
  {
   "cell_type": "code",
   "execution_count": 0,
   "metadata": {
    "colab": {},
    "colab_type": "code",
    "id": "EWE0o23GyqNP"
   },
   "outputs": [],
   "source": []
  },
  {
   "cell_type": "markdown",
   "metadata": {
    "colab_type": "text",
    "id": "gDYFkotsyqNV"
   },
   "source": [
    "** Plot the training, validation, and test losses versus number of iterations or epochs for your model on the same plot**"
   ]
  },
  {
   "cell_type": "code",
   "execution_count": 35,
   "metadata": {
    "colab": {
     "base_uri": "https://localhost:8080/",
     "height": 90
    },
    "colab_type": "code",
    "executionInfo": {
     "elapsed": 659,
     "status": "ok",
     "timestamp": 1543264126314,
     "user": {
      "displayName": "Ozgun A",
      "photoUrl": "",
      "userId": "01666726277915478621"
     },
     "user_tz": -180
    },
    "id": "s4xrKwxzyqNW",
    "outputId": "61f900db-4258-4130-fd19-c36a70a867a8"
   },
   "outputs": [
    {
     "name": "stderr",
     "output_type": "stream",
     "text": [
      "/usr/local/lib/python3.6/dist-packages/numpy/core/fromnumeric.py:2957: RuntimeWarning: Mean of empty slice.\n",
      "  out=out, **kwargs)\n",
      "/usr/local/lib/python3.6/dist-packages/numpy/core/_methods.py:80: RuntimeWarning: invalid value encountered in double_scalars\n",
      "  ret = ret.dtype.type(ret / rcount)\n"
     ]
    }
   ],
   "source": [
    "mymodel = np.load(\"/content/drive/My Drive/BLG561E/modelv4.npz\")\n",
    "train_losses_mymodel = mymodel[\"train_losses\"]\n",
    "losses_epoch_mymodel = mymodel[\"val_losses\"]\n",
    "\n",
    "train_losses_mean_mymodel = []\n",
    "for i in range(int(len(train_losses_res18)/94)):\n",
    "  train_losses_mean_mymodel.append(np.mean(train_losses_mymodel[i*94:(i+1)*94]))"
   ]
  },
  {
   "cell_type": "code",
   "execution_count": 36,
   "metadata": {
    "colab": {
     "base_uri": "https://localhost:8080/",
     "height": 294
    },
    "colab_type": "code",
    "executionInfo": {
     "elapsed": 633,
     "status": "ok",
     "timestamp": 1543264181935,
     "user": {
      "displayName": "Ozgun A",
      "photoUrl": "",
      "userId": "01666726277915478621"
     },
     "user_tz": -180
    },
    "id": "soUO1HQ3tdPZ",
    "outputId": "f472a1a6-135b-43dc-c731-58219365f7a3"
   },
   "outputs": [
    {
     "data": {
      "image/png": "[encoded data removed]",
      "text/plain": [
       "<matplotlib.figure.Figure at 0x7f5ff095b4a8>"
      ]
     },
     "metadata": {
      "tags": []
     },
     "output_type": "display_data"
    }
   ],
   "source": [
    "fig = plt.figure()\n",
    "ax = plt.subplot(111)\n",
    "ax.plot(range(len(train_losses_mean_mymodel)), train_losses_mean_mymodel, label='Train Loss')\n",
    "ax.legend()\n",
    "\n",
    "plt.xlabel('Epochs')\n",
    "plt.ylabel('Loss')\n",
    "plt.title('Custom Model Train Losses')\n",
    "plt.grid(True)\n",
    "plt.show()\n"
   ]
  },
  {
   "cell_type": "code",
   "execution_count": 37,
   "metadata": {
    "colab": {
     "base_uri": "https://localhost:8080/",
     "height": 35
    },
    "colab_type": "code",
    "executionInfo": {
     "elapsed": 728,
     "status": "ok",
     "timestamp": 1543264202961,
     "user": {
      "displayName": "Ozgun A",
      "photoUrl": "",
      "userId": "01666726277915478621"
     },
     "user_tz": -180
    },
    "id": "K7CYoAtMtrGn",
    "outputId": "27a0d119-4c8e-424c-ed13-c62942f4d93a"
   },
   "outputs": [
    {
     "name": "stdout",
     "output_type": "stream",
     "text": [
      "Validation loss for custom model is:  1.2529722462873907\n"
     ]
    }
   ],
   "source": [
    "print(\"Validation loss for custom model is: \", losses_epoch_mymodel)"
   ]
  },
  {
   "cell_type": "markdown",
   "metadata": {
    "colab_type": "text",
    "id": "zeCFMac7yqNd"
   },
   "source": [
    "#### After you have completed the training, save your best model using the following command\n"
   ]
  },
  {
   "cell_type": "code",
   "execution_count": 0,
   "metadata": {
    "colab": {},
    "colab_type": "code",
    "id": "MB__uNcEyqNn"
   },
   "outputs": [],
   "source": [
    "student_id = 511161185\n",
    "torch.save(model.state_dict(), '/content/drive/My Drive/BLG561E/{}.pth'.format(student_id))"
   ]
  }
 ],
 "metadata": {
  "accelerator": "GPU",
  "colab": {
   "collapsed_sections": [],
   "name": "PyTorch.ipynb",
   "provenance": [],
   "version": "0.3.2"
  },
  "kernelspec": {
   "display_name": "Python 3",
   "language": "python",
   "name": "python3"
  },
  "language_info": {
   "codemirror_mode": {
    "name": "ipython",
    "version": 3
   },
   "file_extension": ".py",
   "mimetype": "text/x-python",
   "name": "python",
   "nbconvert_exporter": "python",
   "pygments_lexer": "ipython3",
   "version": "3.7.1"
  }
 },
 "nbformat": 4,
 "nbformat_minor": 1
}
