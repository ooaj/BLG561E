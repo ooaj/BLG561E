{
 "cells": [
  {
   "cell_type": "markdown",
   "metadata": {},
   "source": [
    "# Fully Connected Networks\n",
    "\n",
    "We covered artificial neural networks with multiple hidden layers in class. In this assignment, you will implement Fully Connected Neural Network (FCN) components in order to perform a supervised classification task.\n",
    "\n",
    "The dataset you are going to work with are : (i) for development of your code, you will use Iris dataset for classification; (ii) for actual training and testing of your implementation in this assignment, the actual dataset will be Twitter tweet data. You will be performing a sentiment classification of tweets into: positive, negative classes.\n",
    "\n",
    "Usage of any built-in functions for code parts that you are asked to write are not allowed. We provide a skeleton code on which to build on your own architecture. In the Layer class, there are two important methods, named as forward and backward. Almost everything you will use in this assignment is derived from this class. We will follow PyTorch-like architecture in the skeleton code.\n",
    "\n",
    "**Please do not modify the following cells, except the Twitter sentiment analysis cell. We will use them for the evaluation of your homeworks. **\n",
    "\n",
    "**You should modify and fill in the code under blg561/layers.py, which includes functions such as layer.NNLayer.* ...**\n",
    "\n"
   ]
  },
  {
   "cell_type": "code",
   "execution_count": 1,
   "metadata": {},
   "outputs": [],
   "source": [
    "import numpy as np\n",
    "from blg561.layer import layer\n",
    "from blg561.checks import *\n",
    "import matplotlib.pyplot as plt\n",
    "import pandas as pd\n",
    "%matplotlib inline\n",
    "%load_ext autoreload\n",
    "%autoreload 2"
   ]
  },
  {
   "cell_type": "markdown",
   "metadata": {},
   "source": [
    "### To auto-reload your modules from the *.py files, re run the following cell"
   ]
  },
  {
   "cell_type": "code",
   "execution_count": 2,
   "metadata": {},
   "outputs": [],
   "source": [
    "%reload_ext autoreload\n",
    "%autoreload 2"
   ]
  },
  {
   "cell_type": "markdown",
   "metadata": {},
   "source": [
    "## Layers\n",
    "\n",
    "In the `Layer` class, there are two important methods, named as `forward` and `backward`. Almost everything you will use in this assignment is derived from this class. You will be programming in Python language.\n",
    "\n",
    "**Don't forget to test your implementation by using the cells below!**\n",
    "\n",
    "\n",
    "\n",
    "### a. Affine Layer\n",
    "\n",
    "In this layer, we basically implement the hidden layers of neural nets. Each neuron (building block of neural networks) is a just logistic regression classifier itself, but stacking these neurons make them powerful to implement any function.\n",
    "We are going to implement our affine layer \n",
    "\n",
    "Go under blg561e/layer.py and find Affine class. Implement the forward pass for Affine layer which is formulated as follows:\n",
    "\n",
    "$ z = W x + b $ "
   ]
  },
  {
   "cell_type": "markdown",
   "metadata": {},
   "source": [
    "#### Forward pass"
   ]
  },
  {
   "cell_type": "code",
   "execution_count": 3,
   "metadata": {},
   "outputs": [
    {
     "name": "stdout",
     "output_type": "stream",
     "text": [
      "Testing forward method of affine layer:\n",
      "difference:  8.825372662436368e-08\n"
     ]
    }
   ],
   "source": [
    "num_inputs = 10\n",
    "input_shape = (4, 7, 2) \n",
    "output_dim = 3\n",
    "\n",
    "input_size = num_inputs * np.prod(input_shape)\n",
    "weight_size = output_dim * np.prod(input_shape)\n",
    "affineLayer = layer.AffineLayer(input_size, weight_size)\n",
    "\n",
    "x = np.linspace(-0.1, 0.5, num=input_size).reshape(num_inputs, *input_shape)\n",
    "affineLayer.W = np.linspace(-0.2, 0.3, num=weight_size).reshape(np.prod(input_shape), output_dim)\n",
    "affineLayer.b = np.linspace(-0.3, 0.1, num=output_dim)\n",
    "\n",
    "out = affineLayer.forward(x)\n",
    "correct_out = np.array([[-0.34448963, -0.15630714,  0.03187535],\n",
    "       [-0.18626697,  0.0119934 ,  0.21025377],\n",
    "       [-0.0280443 ,  0.18029394,  0.38863218],\n",
    "       [ 0.13017836,  0.34859447,  0.56701059],\n",
    "       [ 0.28840102,  0.51689501,  0.74538901],\n",
    "       [ 0.44662368,  0.68519555,  0.92376742],\n",
    "       [ 0.60484634,  0.85349608,  1.10214583],\n",
    "       [ 0.763069  ,  1.02179662,  1.28052425],\n",
    "       [ 0.92129166,  1.19009716,  1.45890266],\n",
    "       [ 1.07951432,  1.35839769,  1.63728107]])\n",
    "\n",
    "\n",
    "relError = rel_error(out, correct_out)\n",
    "\n",
    "print('Testing forward method of affine layer:')\n",
    "print('difference: ', relError)\n",
    "assert 1e-6 > relError"
   ]
  },
  {
   "cell_type": "markdown",
   "metadata": {},
   "source": [
    "### Backward pass : \n",
    "Go under blg561e/layer.py and find AffineLayer class. Implement the backward pass for Affine layer."
   ]
  },
  {
   "cell_type": "code",
   "execution_count": 4,
   "metadata": {},
   "outputs": [
    {
     "name": "stdout",
     "output_type": "stream",
     "text": [
      "Testing backward method of affine layer:\n",
      "dx error:  4.7047248209738234e-09\n",
      "dw error:  1.0253793048198812e-10\n",
      "db error:  4.978984658437728e-11\n"
     ]
    }
   ],
   "source": [
    "np.random.seed(1773)\n",
    "num_inputs = 7\n",
    "input_shape = (4, 10, 3)\n",
    "output_dim = 8\n",
    "\n",
    "input_size = num_inputs * np.prod(input_shape)\n",
    "weight_size = output_dim * np.prod(input_shape)\n",
    "affineLayer = layer.AffineLayer(input_size, weight_size)\n",
    "\n",
    "\n",
    "x = np.random.randn(10, 2, 3)\n",
    "affineLayer.W = np.random.randn(6, 5)\n",
    "affineLayer.b = np.random.randn(5)\n",
    "dout = np.random.randn(10, 5)\n",
    "\n",
    "dx_num = grad_check(affineLayer.forward, x, dout)\n",
    "dw_num = grad_check(lambda _ : affineLayer.forward(x), affineLayer.W, dout)\n",
    "db_num = grad_check(lambda _ : affineLayer.forward(x), affineLayer.b, dout)\n",
    "\n",
    "affineLayer.forward(x)\n",
    "dx, dw, db = affineLayer.backward(dout)\n",
    "\n",
    "# Errors should be around 1e-6 at least\n",
    "print('Testing backward method of affine layer:')\n",
    "print('dx error: ', rel_error(dx_num, dx))\n",
    "print('dw error: ', rel_error(dw_num, dw))\n",
    "print('db error: ', rel_error(db_num, db))\n",
    "\n",
    "assert 1e-6 > rel_error(dx_num, dx) \n",
    "assert 1e-6 > rel_error(dw_num, dw) \n",
    "assert 1e-6 > rel_error(db_num, db) "
   ]
  },
  {
   "cell_type": "markdown",
   "metadata": {
    "collapsed": true
   },
   "source": [
    "### b. ReLU Layer\n",
    "\n",
    "Go under `blg561e/layer.py` and find `ReLU` class. Implement the forward pass for ReLU which is basicly zeroing the negative inputs:\n",
    "\n",
    "$ ReLU(x) = max(x, 0) $"
   ]
  },
  {
   "cell_type": "markdown",
   "metadata": {},
   "source": [
    "#### Forward pass"
   ]
  },
  {
   "cell_type": "code",
   "execution_count": 5,
   "metadata": {},
   "outputs": [
    {
     "name": "stdout",
     "output_type": "stream",
     "text": [
      "Testing forward method of ReLU layer:\n",
      "Error:  0.0\n"
     ]
    }
   ],
   "source": [
    "relu = layer.ReLU()\n",
    "x = np.array([0,1,3,4,-1,2,4,1773,-1773, 1.3, .4, -.1]).reshape(3, -1)\n",
    "out = relu.forward(x)\n",
    "correct_out = np.array([[0.000, 1.000, 3.000, 4.000],\n",
    "                       [0.000, 2.000, 4.000, 1773],\n",
    "                       [0.000, 1.300, 0.4, 0]])\n",
    "\n",
    "# Compare your output with ours. \n",
    "relError = rel_error(out, correct_out)\n",
    "print('Testing forward method of ReLU layer:')\n",
    "print('Error: ', rel_error(out, correct_out))\n",
    "assert 1e-6 > relError"
   ]
  },
  {
   "cell_type": "markdown",
   "metadata": {},
   "source": [
    "#### Backward pass"
   ]
  },
  {
   "cell_type": "code",
   "execution_count": 6,
   "metadata": {},
   "outputs": [
    {
     "name": "stdout",
     "output_type": "stream",
     "text": [
      "Testing backward method of ReLU layer:\n",
      "dx error:  3.2756263483625388e-12\n"
     ]
    }
   ],
   "source": [
    "relu = layer.ReLU()\n",
    "np.random.seed(1773)\n",
    "x = np.random.randn(10, 10)\n",
    "dout = np.random.randn(*x.shape)\n",
    "\n",
    "dx_num = grad_check(relu.forward, x, dout)\n",
    "\n",
    "relu.forward(x)\n",
    "dx = relu.backward(dout)\n",
    "\n",
    "# The error should be around 3e-12\n",
    "print('Testing backward method of ReLU layer:')\n",
    "print('dx error: ', rel_error(dx_num, dx))"
   ]
  },
  {
   "cell_type": "markdown",
   "metadata": {},
   "source": [
    "### c. Softmax classifier \n",
    "\n",
    "In multi-class classification task, as we've seen in the class, the softmax loss function is utilized. \n",
    "Practically, at the final layer of the network, instead of the standard activation, we utilize softmax function to turn the likelihood of each class into class probablities. Then, we utilize the cross-entropy loss as the data loss. Below, you implement and return only the data loss component in your overall loss. \n",
    "*** Implement your loss computation in the function \"loss\" of the layer.py ***\n",
    "\n",
    "The L2 regularizer will be added by you in the Optimization phase later.\n",
    "You will write forward pass and backward pass for the softmax unit. Below, we evaluate your method by a numerical gradient method."
   ]
  },
  {
   "cell_type": "code",
   "execution_count": 7,
   "metadata": {},
   "outputs": [
    {
     "name": "stdout",
     "output_type": "stream",
     "text": [
      "\n",
      "Testing softmax_loss:\n",
      "loss:  2.0\n",
      "dx error:  1.0\n"
     ]
    }
   ],
   "source": [
    "np.random.seed(1773)\n",
    "num_classes, num_inputs = 10, 50\n",
    "x = 0.001 * np.random.randn(num_inputs, num_classes)\n",
    "y = np.random.randint(num_classes, size=num_inputs)\n",
    "\n",
    "softmax = layer.Softmax()\n",
    "\n",
    "def softmax_loss (x,y):\n",
    "    probs = softmax.forward(x)\n",
    "    dx = softmax.backward(y)\n",
    "    loss = layer.loss(probs, y) \n",
    "    return loss,dx\n",
    "\n",
    "\n",
    "loss, dx = softmax_loss(x,y)\n",
    "dx_num = grad_check(lambda x: softmax_loss(x, y)[0], x)\n",
    "\n",
    "# The loss should be about 2.3\n",
    "print('\\nTesting softmax_loss:')\n",
    "print('loss: ', loss)\n",
    "print('dx error: ', rel_error(dx_num, dx))"
   ]
  },
  {
   "cell_type": "markdown",
   "metadata": {},
   "source": [
    "### d. Implement your activation (Bonus)\n",
    "Implement a novel or a recently published activation function and test its correctness below. If you used an activation from a paper, please don't forget to give a reference to it. Make sure that you have the correct implementation of the forward pass so that we can test your backward pass using a numerical gradient.\n",
    "\n",
    "Also, under this cell, write your activation mathematically and its derivative. Do not forget to use your activation in training part with the Iris data to show that it works and makes sense. You can also plot your activation for litte extra credits."
   ]
  },
  {
   "cell_type": "code",
   "execution_count": 8,
   "metadata": {},
   "outputs": [
    {
     "name": "stdout",
     "output_type": "stream",
     "text": [
      "Testing your activation:\n",
      "dx error:  5.469181638412024e-12\n"
     ]
    }
   ],
   "source": [
    "act = layer.YourActivation()\n",
    "np.random.seed(1773)\n",
    "x = np.random.randn(10, 10)\n",
    "dout = np.random.randn(*x.shape)\n",
    "\n",
    "dx_num = grad_check(act.forward, x, dout)\n",
    "\n",
    "act.forward(x)\n",
    "dx = act.backward(dout)\n",
    "\n",
    "relError = rel_error(dx_num, dx)\n",
    "print('Testing your activation:')\n",
    "print('dx error: ', relError)"
   ]
  },
  {
   "cell_type": "markdown",
   "metadata": {},
   "source": [
    "### e. Optimizers\n",
    "\n",
    "Implement SGD and SGDWithMomentum Strategies in `VanillaSGDOptimizer` and `SGDWithMomentum` classes. Test their correctness using cell below. \n",
    "**Do not forget to add L2 regularization to both optimizers.**"
   ]
  },
  {
   "cell_type": "code",
   "execution_count": 10,
   "metadata": {},
   "outputs": [
    {
     "name": "stdout",
     "output_type": "stream",
     "text": [
      "not updated dW:  [[0. 0.]\n",
      " [0. 0.]\n",
      " [0. 0.]\n",
      " [0. 0.]\n",
      " [0. 0.]\n",
      " [0. 0.]\n",
      " [0. 0.]\n",
      " [0. 0.]\n",
      " [0. 0.]\n",
      " [0. 0.]]\n",
      "not updated W:  [[0.86511762 0.53375678]\n",
      " [0.18891077 0.92252601]\n",
      " [0.84243421 0.2956638 ]\n",
      " [0.42751833 0.52951101]\n",
      " [0.56011773 0.08463733]\n",
      " [0.39307239 0.15335034]\n",
      " [0.52741731 0.76158481]\n",
      " [0.21636269 0.85887154]\n",
      " [0.13569479 0.78975627]\n",
      " [0.92197754 0.49880393]]\n",
      "\n",
      "updated dW:  [[-0.20012498 -0.33212319]\n",
      " [ 3.90737789  4.89035009]\n",
      " [ 0.46357517  0.63927459]\n",
      " [ 0.14690039  0.20069754]\n",
      " [ 1.95672743  2.41624809]\n",
      " [ 0.31633803  0.37928763]\n",
      " [ 0.21292988  0.16848315]\n",
      " [-0.15770393 -0.19136448]\n",
      " [-0.05738112 -0.05096073]\n",
      " [-0.79761684 -0.98043375]]\n",
      "updated W:  [[ 0.97873084  0.81250429]\n",
      " [-3.7373582  -4.06007668]\n",
      " [ 0.29461562 -0.37317717]\n",
      " [ 0.23786611  0.27586238]\n",
      " [-1.45262147 -2.34007449]\n",
      " [ 0.03742712 -0.24127232]\n",
      " [ 0.2617457   0.51694319]\n",
      " [ 0.35243035  0.96434886]\n",
      " [ 0.17950643  0.76174137]\n",
      " [ 1.62739663  1.42935729]]\n"
     ]
    }
   ],
   "source": [
    "np.random.seed(1773)\n",
    "toyModel = layer.Model()\n",
    "layers = [layer.AffineLayer(10,2, seed=1773), layer.AffineLayer(2,3, seed=1773), layer.Softmax()]\n",
    "toyModel(layers)\n",
    "print(\"not updated dW: \", toyModel[0].dW)\n",
    "print(\"not updated W: \", toyModel[0].W)\n",
    "print()\n",
    "optimizer = layer.VanillaSGDOptimizer(model=toyModel, lr=1, regularization_str=1e-1)\n",
    "x = np.random.randn(3,10)\n",
    "y = np.array([0,1,2]).reshape(1,-1)\n",
    "toyModel.forward(x)\n",
    "toyModel.backward(y)\n",
    "optimizer.optimize()\n",
    "print(\"updated dW: \", toyModel[0].dW)\n",
    "print(\"updated W: \", toyModel[0].W)"
   ]
  },
  {
   "cell_type": "code",
   "execution_count": 11,
   "metadata": {},
   "outputs": [],
   "source": [
    "np.random.seed(1773)\n",
    "toyModel = layer.Model()\n",
    "layers = [layer.AffineLayer(10,2, seed=1773), layer.AffineLayer(2,3, seed=1773), layer.Softmax()]\n",
    "toyModel(layers)\n",
    "optimizer = layer.VanillaSGDOptimizer(model=toyModel, lr=1, regularization_str=1e-1)\n",
    "\n",
    "x = np.random.randn(3,10)\n",
    "y = np.array([0,1,2]).reshape(1,-1)\n",
    "toyModel.forward(x)\n",
    "toyModel.backward(y)\n",
    "optimizer.optimize()\n",
    "expected = [ np.array([[ 0.97873084,  0.81250429],\n",
    " [-3.7373582,  -4.06007668],\n",
    " [ 0.29461562, -0.37317717],\n",
    " [ 0.23786611 , 0.27586238],\n",
    " [-1.45262147, -2.34007449],\n",
    " [ 0.03742712, -0.24127232],\n",
    " [ 0.2617457 ,  0.51694319],\n",
    " [ 0.35243035,  0.96434886],\n",
    " [ 0.17950643,  0.76174137],\n",
    " [ 1.62739663,  1.42935729]]),\n",
    "np.array([-0.23634795, -0.22072128]),\n",
    "np.array([[-0.53813187, -0.23883808, -0.09825078],\n",
    " [-1.90591288, -1.13402054, -0.4392717 ]]),\n",
    "np.array([-0.34588157, -0.00713497,  0.35301654])]\n"
   ]
  },
  {
   "cell_type": "code",
   "execution_count": 12,
   "metadata": {},
   "outputs": [
    {
     "name": "stdout",
     "output_type": "stream",
     "text": [
      "Testing Weights of 0th layer\n",
      "Testing biases of 1th layer\n",
      "Testing Weights of 0th layer\n",
      "Testing biases of 1th layer\n"
     ]
    }
   ],
   "source": [
    "student_out = []\n",
    "for i in range(2):\n",
    "    student_out.append( toyModel[i].W)\n",
    "    student_out.append(toyModel[i].b)\n",
    "for i in range(4):\n",
    "    relError = rel_error(student_out[i], expected[i])\n",
    "    if i % 2 == 0:\n",
    "        print('Testing Weights of {}th layer'.format(i%2))\n",
    "    else:\n",
    "        print('Testing biases of {}th layer'.format(i%2))\n",
    "    assert 1e-6 > relError"
   ]
  },
  {
   "cell_type": "code",
   "execution_count": 13,
   "metadata": {},
   "outputs": [],
   "source": [
    "np.random.seed(1773)\n",
    "toyModel = layer.Model()\n",
    "layers = [layer.AffineLayer(10,2, seed=1773), layer.AffineLayer(2,3, seed=1773), layer.Softmax()]\n",
    "toyModel(layers)\n",
    "optimizer = layer.SGDWithMomentum(model=toyModel, lr=1, regularization_str=1e-1, mu=.5)\n",
    "\n",
    "x = np.random.randn(3,10)\n",
    "y = np.array([0,1,2]).reshape(1,-1)\n",
    "toyModel.forward(x)\n",
    "toyModel.backward(y)\n",
    "optimizer.optimize()\n",
    "expected = [np.array([[ 0.97873084,  0.81250429],\n",
    "        [-3.7373582 , -4.06007668],\n",
    "        [ 0.29461562, -0.37317717],\n",
    "        [ 0.23786611,  0.27586238],\n",
    "        [-1.45262147, -2.34007449],\n",
    "        [ 0.03742712, -0.24127232],\n",
    "        [ 0.2617457 ,  0.51694319],\n",
    "        [ 0.35243035,  0.96434886],\n",
    "        [ 0.17950643,  0.76174137],\n",
    "        [ 1.62739663,  1.42935729]]),\n",
    " np.array([-0.23634795, -0.22072128]),\n",
    " np.array([[-0.53813187, -0.23883808, -0.09825078],\n",
    "        [-1.90591288, -1.13402054, -0.4392717 ]]),\n",
    " np.array([-0.34588157, -0.00713497,  0.35301654])]\n",
    "    \n",
    "    \n"
   ]
  },
  {
   "cell_type": "code",
   "execution_count": 14,
   "metadata": {},
   "outputs": [
    {
     "name": "stdout",
     "output_type": "stream",
     "text": [
      "Testing Weights of 0th layer\n",
      "Testing biases of 1th layer\n",
      "Testing Weights of 0th layer\n",
      "Testing biases of 1th layer\n"
     ]
    }
   ],
   "source": [
    "student_out = []\n",
    "for i in range(2):\n",
    "    student_out.append( toyModel[i].W)\n",
    "    student_out.append(toyModel[i].b)\n",
    "for i in range(4):\n",
    "    relError = rel_error(student_out[i], expected[i])\n",
    "    if i % 2 == 0:\n",
    "        print('Testing Weights of {}th layer'.format(i%2))\n",
    "    else:\n",
    "        print('Testing biases of {}th layer'.format(i%2))\n",
    "    assert 1e-6 > relError"
   ]
  },
  {
   "cell_type": "markdown",
   "metadata": {},
   "source": [
    "## f. Build your own model!"
   ]
  },
  {
   "cell_type": "markdown",
   "metadata": {},
   "source": [
    "Below is an example which is implemented using previously defined API. In this example, you will use the widely known IRIS dataset."
   ]
  },
  {
   "cell_type": "code",
   "execution_count": 15,
   "metadata": {},
   "outputs": [
    {
     "name": "stdout",
     "output_type": "stream",
     "text": [
      "Epoch: 0, Loss: 1.0, Accuracy: 0.4666666666666667\n",
      "Epoch: 0, Test Loss: 0.0, Test Accuracy: 0.7333333333333333\n",
      "Epoch: 50, Loss: 0.0, Accuracy: 0.9833333333333333\n",
      "Epoch: 100, Loss: 0.0, Accuracy: 0.9916666666666667\n",
      "Epoch: 150, Loss: 0.0, Accuracy: 1.0\n",
      "Epoch: 200, Loss: 0.0, Accuracy: 1.0\n",
      "Epoch: 200, Test Loss: 0.0, Test Accuracy: 0.9666666666666667\n",
      "Epoch: 250, Loss: 0.0, Accuracy: 1.0\n",
      "Epoch: 300, Loss: 0.0, Accuracy: 1.0\n",
      "Epoch: 350, Loss: 0.0, Accuracy: 1.0\n",
      "Epoch: 400, Loss: 0.0, Accuracy: 1.0\n",
      "Epoch: 400, Test Loss: 0.0, Test Accuracy: 0.9666666666666667\n",
      "Epoch: 450, Loss: 0.0, Accuracy: 1.0\n",
      "Epoch: 500, Loss: 0.0, Accuracy: 1.0\n",
      "Epoch: 550, Loss: 0.0, Accuracy: 1.0\n",
      "Epoch: 600, Loss: 0.0, Accuracy: 1.0\n",
      "Epoch: 600, Test Loss: 0.0, Test Accuracy: 0.9666666666666667\n",
      "Epoch: 650, Loss: 0.0, Accuracy: 1.0\n",
      "Epoch: 700, Loss: 0.0, Accuracy: 1.0\n",
      "Epoch: 750, Loss: 0.0, Accuracy: 1.0\n",
      "Epoch: 800, Loss: 0.0, Accuracy: 1.0\n",
      "Epoch: 800, Test Loss: 0.0, Test Accuracy: 0.9666666666666667\n",
      "Epoch: 850, Loss: 0.0, Accuracy: 1.0\n",
      "Epoch: 900, Loss: 0.0, Accuracy: 1.0\n",
      "Epoch: 950, Loss: 0.0, Accuracy: 1.0\n",
      "Epoch: 1000, Loss: 0.0, Accuracy: 1.0\n",
      "Epoch: 1000, Test Loss: 0.0, Test Accuracy: 0.9666666666666667\n",
      "Epoch: 1050, Loss: 0.0, Accuracy: 1.0\n",
      "Epoch: 1100, Loss: 0.0, Accuracy: 1.0\n",
      "Epoch: 1150, Loss: 0.0, Accuracy: 1.0\n"
     ]
    }
   ],
   "source": [
    "from sklearn import preprocessing\n",
    "from sklearn.datasets import load_iris  # Load dataset\n",
    "data = load_iris()\n",
    "X, y = data.data, data.target\n",
    "model = layer.Model() # Create a model instance\n",
    " \n",
    "# Iris dataset has 4 features, so the input size of first layer is 4. We have 3 classes, so size of last hidden is 3. \n",
    "# Each neuron corresponds the likelihood of a class, named P(y=neuron_index|x), where y is class label \n",
    "# and x is features given.\n",
    "layers = [layer.AffineLayer(4,64), layer.ReLU(), layer.AffineLayer(64,3), layer.Softmax()]\n",
    "\n",
    "model(layers) # Load layers to model object\n",
    "predictions  = np.ones(150)\n",
    "train_accs = []\n",
    "test_accs = []\n",
    "train_losses = []\n",
    "test_losses = []\n",
    "\n",
    "# Shuffle dataset\n",
    "def create_permutation(x, y):\n",
    "    perm = np.random.permutation(len(x))\n",
    "    return x[perm], y[perm]\n",
    "\n",
    "def train_test_split(X, y, ratio=.2):\n",
    "    X, y = create_permutation(X, y)\n",
    "    split_index =  int(len(X) * (1-ratio))\n",
    "    X_train, y_train = X[:split_index], y[:split_index]\n",
    "    X_test, y_test = X[split_index:], y[split_index:]\n",
    "    return X_train, y_train, X_test, y_test\n",
    "    \n",
    "\n",
    "# Options\n",
    "preprocessing_on = True\n",
    "shuffle_on_each_epoch = True\n",
    "regularization_strength = 0\n",
    "n_epochs = 1200\n",
    "train_test_split_ratio = .2\n",
    "print_every = 50\n",
    "test_every = 200\n",
    "if preprocessing_on:\n",
    "    X = preprocessing.scale(X)\n",
    "X_train, y_train, X_test, y_test = train_test_split(X, y)\n",
    "\n",
    "optimizer = layer.SGDWithMomentum(model,lr=1e-1, regularization_str=regularization_strength)\n",
    "\n",
    "for epoch in range(n_epochs):\n",
    "    if shuffle_on_each_epoch:\n",
    "        X_train, y_train = create_permutation(X_train, y_train)\n",
    "    softmax_out = model.forward(X_train)\n",
    "\n",
    "    predictions = np.argmax(softmax_out, axis=1)\n",
    "    train_acc = np.mean(predictions == y_train)\n",
    "    loss = layer.loss(softmax_out, y_train)\n",
    "    \n",
    "    train_accs.append(train_acc)\n",
    "    train_losses.append(loss)\n",
    "    \n",
    "    if epoch % print_every == 0:\n",
    "        print(\"Epoch: {}, Loss: {}, Accuracy: {}\".format(epoch, loss, train_acc))\n",
    "    \n",
    "    model.backward(y_train)\n",
    "    optimizer.optimize()\n",
    "    \n",
    "    if epoch % test_every == 0:\n",
    "        softmax_out = model.forward(X_test)\n",
    "        predictions = np.argmax(softmax_out, axis=1)\n",
    "        loss = layer.loss(softmax_out, y_test)\n",
    "        test_acc = np.mean(predictions == y_test)\n",
    "        test_losses.append(loss)\n",
    "        test_accs.append([test_acc for i in range(test_every)])\n",
    "        print(\"Epoch: {}, Test Loss: {}, Test Accuracy: {}\".format(epoch, loss, test_acc))"
   ]
  },
  {
   "cell_type": "markdown",
   "metadata": {},
   "source": [
    "### Plot the training and test loss curves for diagnostics below:"
   ]
  },
  {
   "cell_type": "code",
   "execution_count": null,
   "metadata": {},
   "outputs": [],
   "source": [
    "len_train = range(len(train_losses))\n",
    "len_test = range(len(test_losses))\n",
    "fig, ax = plt.subplots()\n",
    "ax.plot(len_train, train_losses, label='Train Loss', color='blue')\n",
    "ax.plot(len_test, test_losses, label='Test Loss', color = 'red')\n",
    "legend = ax.legend(loc='center right', fontsize='x-large')\n",
    "plt.xlabel('Epochs')\n",
    "plt.ylabel('Loss')\n",
    "plt.title('Train loss vs Test Loss')\n",
    "plt.show()"
   ]
  },
  {
   "cell_type": "markdown",
   "metadata": {},
   "source": [
    "### Twitter Sentiment Analysis \n",
    "\n",
    "Now, in this part, you will work with Twitter tweet text data (http://help.sentiment140.com/for-students) for sentiment analysis. The tweets come in two classes:  Class label = 1: Positive tweet; Class label = 0: Negative tweet.  Below, we pre-processed for easier processing.\n",
    "Load the tweet text files by the given code below. You will need to use batch-wise optimizer  since it is almost impossible to fit all the data at once.\n",
    "\n",
    "**IMPORTANT: You are NOT allowed to use sklearn or any other implementations for the learning part\n",
    ". You are ALLOWED ONLY TO USE your own implementation from the above steps.**"
   ]
  },
  {
   "cell_type": "code",
   "execution_count": null,
   "metadata": {},
   "outputs": [],
   "source": [
    "# Read tweets\n",
    "csv = 'homework_ds.csv'\n",
    "my_small_df = pd.read_csv(csv,index_col=0)[:150000]\n",
    "\n",
    "# If you would like to use more tweets, you can increase the number of samples (150K) but it will not affect the grading."
   ]
  },
  {
   "cell_type": "markdown",
   "metadata": {},
   "source": [
    "### Convert the text data to tfidf vectors with our parameters, whose code is also given below. We split the data into Training (120K), Validation (10K) and Test (20K)"
   ]
  },
  {
   "cell_type": "code",
   "execution_count": null,
   "metadata": {},
   "outputs": [],
   "source": [
    "from sklearn.feature_extraction.text import TfidfVectorizer\n",
    "tvec = TfidfVectorizer(max_features=2000)\n",
    "data, labels = my_small_df['tweet'], my_small_df['class']\n",
    "x_tfidf = np.array(tvec.fit_transform(data).todense())\n",
    "x_train = x_tfidf[:120000]\n",
    "y_train = labels[:120000]\n",
    "x_test = x_tfidf[120000:140000]\n",
    "y_test = labels[120000:140000]\n",
    "x_val = x_tfidf[140000:]\n",
    "y_val = labels[140000:]\n"
   ]
  },
  {
   "cell_type": "markdown",
   "metadata": {},
   "source": [
    "**You will use your implementations (layers.py) below to carry out the classification of each tweet vector into two classes (Positive/Negative). Construct your model with all its layers in the cell below.**"
   ]
  },
  {
   "cell_type": "code",
   "execution_count": null,
   "metadata": {},
   "outputs": [],
   "source": [
    "x_train[0][0]"
   ]
  },
  {
   "cell_type": "code",
   "execution_count": null,
   "metadata": {},
   "outputs": [],
   "source": [
    "model = layer.Model() # Create a model instance\n",
    " \n",
    "# Iris dataset has 4 features, so the input size of first layer is 4. We have 3 classes, so size of last hidden is 3. \n",
    "# Each neuron corresponds the likelihood of a class, named P(y=neuron_index|x), where y is class label \n",
    "# and x is features given.\n",
    "layers = [layer.AffineLayer(x_train.shape[1],64), layer.ReLU(), layer.AffineLayer(64,2), layer.Softmax()]\n",
    "\n",
    "model(layers) # Load layers to model object\n",
    "predictions  = np.ones(150)\n",
    "train_accs = []\n",
    "test_accs = []\n",
    "train_losses = []\n",
    "test_losses = []\n",
    "\n",
    "optimizer = layer.SGDWithMomentum(model,lr=1e-1, regularization_str=regularization_strength)\n",
    "\n",
    "preprocessing_on = True\n",
    "shuffle_on_each_epoch = False\n",
    "regularization_strength = 0\n",
    "n_epochs = 1200\n",
    "train_test_split_ratio = .2\n",
    "print_every = 50\n",
    "test_every = 200\n",
    "\n",
    "\n",
    "for epoch in range(n_epochs):\n",
    "    if shuffle_on_each_epoch:\n",
    "        X_train, y_train = create_permutation(x_train, y_train)\n",
    "    softmax_out = model.forward(x_train)\n",
    "\n",
    "    predictions = np.argmax(softmax_out, axis=1)\n",
    "    train_acc = np.mean(predictions == y_train)\n",
    "    loss = layer.loss(softmax_out, y_train)\n",
    "    \n",
    "    train_accs.append(train_acc)\n",
    "    train_losses.append(loss)\n",
    "    \n",
    "    if epoch % print_every == 0:\n",
    "        print(\"Epoch: {}, Loss: {}, Accuracy: {}\".format(epoch, loss, train_acc))\n",
    "    \n",
    "    model.backward(y_train)\n",
    "    optimizer.optimize()\n",
    "    \n",
    "    if epoch % test_every == 0:\n",
    "        softmax_out = model.forward(X_test)\n",
    "        predictions = np.argmax(softmax_out, axis=1)\n",
    "        loss = layer.loss(softmax_out, y_test)\n",
    "        test_acc = np.mean(predictions == y_test)\n",
    "        test_losses.append(loss)\n",
    "        test_accs.append([test_acc for i in range(test_every)])\n",
    "        print(\"Epoch: {}, Test Loss: {}, Test Accuracy: {}\".format(epoch, loss, test_acc))"
   ]
  },
  {
   "cell_type": "markdown",
   "metadata": {},
   "source": [
    "### Run diagnostics of your model : Try different hyperparameter settings such as number of layers in your model, learning rate, regularization parameter and such. Also, try using an L1 regularizer or other regularizer you may come up with. \n",
    "### Compare the outcomes. Avoid overfitting and underfitting as much as possible.  \n",
    "### We expect you to get at least 75% Test Accuracy**"
   ]
  },
  {
   "cell_type": "code",
   "execution_count": null,
   "metadata": {},
   "outputs": [],
   "source": []
  },
  {
   "cell_type": "markdown",
   "metadata": {},
   "source": [
    "### Plot the weights of affine layers to see whether the weights vanish or not and comment."
   ]
  },
  {
   "cell_type": "code",
   "execution_count": null,
   "metadata": {},
   "outputs": [],
   "source": []
  },
  {
   "cell_type": "markdown",
   "metadata": {},
   "source": [
    "### Plot the training and validation losses versus number of iterations, as you vary the regularization parameter lambda with different colors"
   ]
  },
  {
   "cell_type": "code",
   "execution_count": null,
   "metadata": {},
   "outputs": [],
   "source": []
  },
  {
   "cell_type": "markdown",
   "metadata": {},
   "source": [
    "### Plot the training and validation losses as you vary the Learning Parameter alpha"
   ]
  },
  {
   "cell_type": "code",
   "execution_count": null,
   "metadata": {},
   "outputs": [],
   "source": []
  },
  {
   "cell_type": "markdown",
   "metadata": {},
   "source": [
    "### Use two different optimizers: Mini-batch SGD and Mini-batch SGD with Momentum, and plot training and validation losses versus Iteration numbers"
   ]
  },
  {
   "cell_type": "code",
   "execution_count": null,
   "metadata": {},
   "outputs": [],
   "source": []
  },
  {
   "cell_type": "markdown",
   "metadata": {},
   "source": [
    "### Finally, fix your model and hyperparameters. Plot accuracy of your classification for training, validation set and Test set. "
   ]
  },
  {
   "cell_type": "code",
   "execution_count": null,
   "metadata": {},
   "outputs": [],
   "source": []
  }
 ],
 "metadata": {
  "kernelspec": {
   "display_name": "Python 3",
   "language": "python",
   "name": "python3"
  },
  "language_info": {
   "codemirror_mode": {
    "name": "ipython",
    "version": 3
   },
   "file_extension": ".py",
   "mimetype": "text/x-python",
   "name": "python",
   "nbconvert_exporter": "python",
   "pygments_lexer": "ipython3",
   "version": "3.7.1"
  }
 },
 "nbformat": 4,
 "nbformat_minor": 2
}
